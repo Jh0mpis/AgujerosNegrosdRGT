{
 "cells": [
  {
   "cell_type": "markdown",
   "metadata": {},
   "source": [
    "# Solución estática con función $F(r)$ "
   ]
  },
  {
   "cell_type": "markdown",
   "metadata": {},
   "source": [
    "Nota: Este cuaderno fue hecho usando SageMath 9.1"
   ]
  },
  {
   "cell_type": "code",
   "execution_count": 1,
   "metadata": {},
   "outputs": [
    {
     "data": {
      "text/plain": [
       "'SageMath version 9.1, Release Date: 2020-05-20'"
      ]
     },
     "execution_count": 1,
     "metadata": {},
     "output_type": "execute_result"
    }
   ],
   "source": [
    "version()"
   ]
  },
  {
   "cell_type": "markdown",
   "metadata": {},
   "source": [
    "Se activa la visualización matemática de latex"
   ]
  },
  {
   "cell_type": "code",
   "execution_count": 2,
   "metadata": {},
   "outputs": [],
   "source": [
    "%display latex"
   ]
  },
  {
   "cell_type": "markdown",
   "metadata": {},
   "source": [
    "Se usó paralelismo usando 10 hilos"
   ]
  },
  {
   "cell_type": "code",
   "execution_count": 3,
   "metadata": {},
   "outputs": [],
   "source": [
    "Parallelism().set(nproc=10)"
   ]
  },
  {
   "cell_type": "markdown",
   "metadata": {},
   "source": [
    "# 1. Definición del espacio tiempo y variables"
   ]
  },
  {
   "cell_type": "markdown",
   "metadata": {},
   "source": [
    "El espacio-tiempo se define como una variedad lorentziana de 4 dimensiones."
   ]
  },
  {
   "cell_type": "code",
   "execution_count": 4,
   "metadata": {},
   "outputs": [],
   "source": [
    "M=Manifold(4, 'M', latex_name=r\"\\mathcal{M}\", structure=\"Lorentzian\")"
   ]
  },
  {
   "cell_type": "markdown",
   "metadata": {},
   "source": [
    "Luego, se introducen las coordenadas esféricas usando el método ```.chart()``` del objeto M. Este método recibe una cadena de texto que incluye el nombre de la coordenada, su rango y el símbolo de Latex con el que se representará. Si no se pasa rango se asumirá como $(-\\infty,+\\infty)$, si se omite el símbolo de latex, la representación será con el nombre de la coordenada."
   ]
  },
  {
   "cell_type": "code",
   "execution_count": 5,
   "metadata": {},
   "outputs": [],
   "source": [
    "BL.<t,r,theta,phi> = M.chart(r\"t r:(0,+oo) theta:(0,pi):\\theta phi:(0,2*pi):\\phi\")"
   ]
  },
  {
   "cell_type": "markdown",
   "metadata": {},
   "source": [
    "Se definen las variables que usaremos a lo largo del código, usando la función ```var()```.\n",
    "Adicionalmente se define una función $F(r)$ usando la función ```function()```."
   ]
  },
  {
   "cell_type": "code",
   "execution_count": 6,
   "metadata": {},
   "outputs": [],
   "source": [
    "var(\"m, Lambda, gamma, zeta, c, alpha, beta, m_g\", domain=\"real\")\n",
    "F=function(\"F\",nargs=1)(r)\n",
    "assume(m>=0)\n",
    "assume(m_g>=0)"
   ]
  },
  {
   "cell_type": "markdown",
   "metadata": {},
   "source": [
    "# 2. Tensor métrico"
   ]
  },
  {
   "cell_type": "markdown",
   "metadata": {},
   "source": [
    "Para encontrar la función $F(r)$, con la cual se puede escribir el elemento de linea como sigue\n",
    "\n",
    "\\begin{equation}\n",
    "    ds^2=-F(r)dt^2+\\dfrac{1}{F(r)}dr^2+r^2d\\Omega^2\n",
    "\\end{equation}\n",
    "\n",
    "y que satisface las ecuaciones de campo."
   ]
  },
  {
   "cell_type": "markdown",
   "metadata": {},
   "source": [
    "Dado que el elemento de linea se puede escribir como\n",
    "\\begin{equation}\n",
    "    ds^2=g_{\\mu\\nu}dx^\\mu dx^\\nu\n",
    "\\end{equation}\n",
    "el tensor métrico $g_{\\mu\\nu}$  queda como"
   ]
  },
  {
   "cell_type": "code",
   "execution_count": 7,
   "metadata": {},
   "outputs": [
    {
     "data": {
      "text/html": [
       "<html><script type=\"math/tex; mode=display\">\\newcommand{\\Bold}[1]{\\mathbf{#1}}\\left(\\begin{array}{rrrr}\n",
       "-F\\left(r\\right) & 0 & 0 & 0 \\\\\n",
       "0 & \\frac{1}{F\\left(r\\right)} & 0 & 0 \\\\\n",
       "0 & 0 & r^{2} & 0 \\\\\n",
       "0 & 0 & 0 & r^{2} \\sin\\left({\\theta}\\right)^{2}\n",
       "\\end{array}\\right)</script></html>"
      ],
      "text/plain": [
       "[           -F(r)                0                0                0]\n",
       "[               0           1/F(r)                0                0]\n",
       "[               0                0              r^2                0]\n",
       "[               0                0                0 r^2*sin(theta)^2]"
      ]
     },
     "execution_count": 7,
     "metadata": {},
     "output_type": "execute_result"
    }
   ],
   "source": [
    "g_f=M.metric()\n",
    "g_f[0,0]=-F\n",
    "g_f[1,1]=1/F\n",
    "g_f[2,2]=r^2\n",
    "g_f[3,3]=(r*sin(theta))^2\n",
    "g_f_ud=g_f.up(g_f,0)\n",
    "g_f[:]"
   ]
  },
  {
   "cell_type": "markdown",
   "metadata": {},
   "source": [
    "# 3. Tensor de Einstein"
   ]
  },
  {
   "cell_type": "markdown",
   "metadata": {},
   "source": [
    "## 3.1 Tensor de Ricci $R_{\\mu\\nu}$"
   ]
  },
  {
   "cell_type": "markdown",
   "metadata": {},
   "source": [
    "El tensor de Ricci, usando el método ```.ricci()```, para la métrica es"
   ]
  },
  {
   "cell_type": "code",
   "execution_count": 8,
   "metadata": {},
   "outputs": [
    {
     "data": {
      "text/html": [
       "<html><script type=\"math/tex; mode=display\">\\newcommand{\\Bold}[1]{\\mathbf{#1}}\\left(\\begin{array}{rrrr}\n",
       "\\frac{r F\\left(r\\right) \\frac{\\partial^2\\,F}{\\partial r ^ 2} + 2 \\, F\\left(r\\right) \\frac{\\partial\\,F}{\\partial r}}{2 \\, r} & 0 & 0 & 0 \\\\\n",
       "0 & -\\frac{r \\frac{\\partial^2\\,F}{\\partial r ^ 2} + 2 \\, \\frac{\\partial\\,F}{\\partial r}}{2 \\, r F\\left(r\\right)} & 0 & 0 \\\\\n",
       "0 & 0 & -r \\frac{\\partial\\,F}{\\partial r} - F\\left(r\\right) + 1 & 0 \\\\\n",
       "0 & 0 & 0 & -{\\left(r \\frac{\\partial\\,F}{\\partial r} + F\\left(r\\right) - 1\\right)} \\sin\\left({\\theta}\\right)^{2}\n",
       "\\end{array}\\right)</script></html>"
      ],
      "text/plain": [
       "[1/2*(r*F(r)*d^2(F)/dr^2 + 2*F(r)*d(F)/dr)/r                                           0                                           0                                           0]\n",
       "[                                          0   -1/2*(r*d^2(F)/dr^2 + 2*d(F)/dr)/(r*F(r))                                           0                                           0]\n",
       "[                                          0                                           0                       -r*d(F)/dr - F(r) + 1                                           0]\n",
       "[                                          0                                           0                                           0        -(r*d(F)/dr + F(r) - 1)*sin(theta)^2]"
      ]
     },
     "execution_count": 8,
     "metadata": {},
     "output_type": "execute_result"
    }
   ],
   "source": [
    "Ricci_f=g_f.ricci()\n",
    "Ricci_f[:]"
   ]
  },
  {
   "cell_type": "markdown",
   "metadata": {},
   "source": [
    "## 3.2 Escalar de curvatura de Ricci $R$"
   ]
  },
  {
   "cell_type": "markdown",
   "metadata": {},
   "source": [
    "El escalar de curvatura de Ricci, contrayendo la métrica con el tensor de Ricci, usando el método ```.ricci_scalar()``` queda como"
   ]
  },
  {
   "cell_type": "code",
   "execution_count": 9,
   "metadata": {},
   "outputs": [
    {
     "data": {
      "text/html": [
       "<html><script type=\"math/tex; mode=display\">\\newcommand{\\Bold}[1]{\\mathbf{#1}}-\\frac{r^{2} \\frac{\\partial^{2}}{(\\partial r)^{2}}F\\left(r\\right) + 4 \\, r \\frac{\\partial}{\\partial r}F\\left(r\\right) + 2 \\, F\\left(r\\right) - 2}{r^{2}}</script></html>"
      ],
      "text/plain": [
       "-(r^2*diff(F(r), r, r) + 4*r*diff(F(r), r) + 2*F(r) - 2)/r^2"
      ]
     },
     "execution_count": 9,
     "metadata": {},
     "output_type": "execute_result"
    }
   ],
   "source": [
    "R_f=g_f.ricci_scalar()\n",
    "R_f.expr()"
   ]
  },
  {
   "cell_type": "markdown",
   "metadata": {},
   "source": [
    "## 3.3 Tensor Einstein $G^\\mu_\\nu$"
   ]
  },
  {
   "cell_type": "markdown",
   "metadata": {},
   "source": [
    "Ahora definimos el Tensor de Einstein, y contruimos las componentes mixtas."
   ]
  },
  {
   "cell_type": "code",
   "execution_count": 10,
   "metadata": {},
   "outputs": [
    {
     "data": {
      "text/html": [
       "<html><script type=\"math/tex; mode=display\">\\newcommand{\\Bold}[1]{\\mathbf{#1}}\\left(\\begin{array}{rrrr}\n",
       "\\frac{r \\frac{\\partial\\,F}{\\partial r} + F\\left(r\\right) - 1}{r^{2}} & 0 & 0 & 0 \\\\\n",
       "0 & \\frac{r \\frac{\\partial\\,F}{\\partial r} + F\\left(r\\right) - 1}{r^{2}} & 0 & 0 \\\\\n",
       "0 & 0 & \\frac{r \\frac{\\partial^2\\,F}{\\partial r ^ 2} + 2 \\, \\frac{\\partial\\,F}{\\partial r}}{2 \\, r} & 0 \\\\\n",
       "0 & 0 & 0 & \\frac{r \\frac{\\partial^2\\,F}{\\partial r ^ 2} + 2 \\, \\frac{\\partial\\,F}{\\partial r}}{2 \\, r}\n",
       "\\end{array}\\right)</script></html>"
      ],
      "text/plain": [
       "[       (r*d(F)/dr + F(r) - 1)/r^2                                 0                                 0                                 0]\n",
       "[                                0        (r*d(F)/dr + F(r) - 1)/r^2                                 0                                 0]\n",
       "[                                0                                 0 1/2*(r*d^2(F)/dr^2 + 2*d(F)/dr)/r                                 0]\n",
       "[                                0                                 0                                 0 1/2*(r*d^2(F)/dr^2 + 2*d(F)/dr)/r]"
      ]
     },
     "execution_count": 10,
     "metadata": {},
     "output_type": "execute_result"
    }
   ],
   "source": [
    "G_f_ud=Ricci_f-R_f*g_f/2\n",
    "G_f_ud=G_f_ud.up(g_f,0)\n",
    "G_f_ud[:]"
   ]
  },
  {
   "cell_type": "markdown",
   "metadata": {},
   "source": [
    "# 4. Tensor de momento energía efectivo de la teoría $X_\\nu^\\mu$"
   ]
  },
  {
   "cell_type": "markdown",
   "metadata": {},
   "source": [
    "Usando la definición del tensor $\\mathcal{K}^\\mu_\\nu$ \n",
    "\n",
    "\\begin{equation}\n",
    "    \\mathcal{K}^\\mu_\\mu=1-\\sqrt{g^{\\mu\\mu}f_{\\mu\\mu}}\n",
    "\\end{equation}\n",
    "\n",
    "con $f=diag(0,0,c^2,c^2\\sin^2\\theta)$. La expresión anterior se obtiene usando que tanto $g$ como $f$ son tensores diagonales, es decir, los elementos fuera de la diagonal de $\\mathcal{K}^\\mu_\\nu$ son cero. Luego, el tensor es"
   ]
  },
  {
   "cell_type": "code",
   "execution_count": 11,
   "metadata": {},
   "outputs": [
    {
     "data": {
      "text/html": [
       "<html><script type=\"math/tex; mode=display\">\\newcommand{\\Bold}[1]{\\mathbf{#1}}\\left(\\begin{array}{rrrr}\n",
       "1 & 0 & 0 & 0 \\\\\n",
       "0 & 1 & 0 & 0 \\\\\n",
       "0 & 0 & -\\frac{c}{r} + 1 & 0 \\\\\n",
       "0 & 0 & 0 & -\\frac{c}{r} + 1\n",
       "\\end{array}\\right)</script></html>"
      ],
      "text/plain": [
       "[       1        0        0        0]\n",
       "[       0        1        0        0]\n",
       "[       0        0 -c/r + 1        0]\n",
       "[       0        0        0 -c/r + 1]"
      ]
     },
     "execution_count": 11,
     "metadata": {},
     "output_type": "execute_result"
    }
   ],
   "source": [
    "K_f=M.tensor_field(1, 1, name='K1') \n",
    "K_f[0,0]=1\n",
    "K_f[1,1]=K_f[0,0]\n",
    "K_f[2,2]=1-c/r\n",
    "K_f[3,3]=1-c/(r)\n",
    "K_f[:]"
   ]
  },
  {
   "cell_type": "markdown",
   "metadata": {},
   "source": [
    "## 4.1 $\\mathcal{K}^2$ y $\\mathcal{K}^3$"
   ]
  },
  {
   "cell_type": "markdown",
   "metadata": {},
   "source": [
    "El tensor $\\mathcal{K}^{2\\mu}_\\nu=\\mathcal{K}^{\\mu}_\\sigma\\mathcal{K}^{\\sigma}_\\nu$ será entonces"
   ]
  },
  {
   "cell_type": "code",
   "execution_count": 12,
   "metadata": {},
   "outputs": [
    {
     "data": {
      "text/html": [
       "<html><script type=\"math/tex; mode=display\">\\newcommand{\\Bold}[1]{\\mathbf{#1}}\\left(\\begin{array}{rrrr}\n",
       "1 & 0 & 0 & 0 \\\\\n",
       "0 & 1 & 0 & 0 \\\\\n",
       "0 & 0 & \\frac{c^{2} - 2 \\, c r + r^{2}}{r^{2}} & 0 \\\\\n",
       "0 & 0 & 0 & \\frac{c^{2} - 2 \\, c r + r^{2}}{r^{2}}\n",
       "\\end{array}\\right)</script></html>"
      ],
      "text/plain": [
       "[                      1                       0                       0                       0]\n",
       "[                      0                       1                       0                       0]\n",
       "[                      0                       0 (c^2 - 2*c*r + r^2)/r^2                       0]\n",
       "[                      0                       0                       0 (c^2 - 2*c*r + r^2)/r^2]"
      ]
     },
     "execution_count": 12,
     "metadata": {},
     "output_type": "execute_result"
    }
   ],
   "source": [
    "K2_f=K_f.contract(K_f)\n",
    "K2_f[:]"
   ]
  },
  {
   "cell_type": "markdown",
   "metadata": {},
   "source": [
    "El tensor $\\mathcal{K}^{3\\mu}_\\nu=\\mathcal{K}^{\\mu}_\\sigma\\mathcal{K}^{\\sigma}_\\rho\\mathcal{K}^{\\rho}_\\nu$ será entonces"
   ]
  },
  {
   "cell_type": "code",
   "execution_count": 13,
   "metadata": {},
   "outputs": [
    {
     "data": {
      "text/html": [
       "<html><script type=\"math/tex; mode=display\">\\newcommand{\\Bold}[1]{\\mathbf{#1}}\\left(\\begin{array}{rrrr}\n",
       "1 & 0 & 0 & 0 \\\\\n",
       "0 & 1 & 0 & 0 \\\\\n",
       "0 & 0 & -\\frac{c^{3} - 3 \\, c^{2} r + 3 \\, c r^{2} - r^{3}}{r^{3}} & 0 \\\\\n",
       "0 & 0 & 0 & -\\frac{c^{3} - 3 \\, c^{2} r + 3 \\, c r^{2} - r^{3}}{r^{3}}\n",
       "\\end{array}\\right)</script></html>"
      ],
      "text/plain": [
       "[                                   1                                    0                                    0                                    0]\n",
       "[                                   0                                    1                                    0                                    0]\n",
       "[                                   0                                    0 -(c^3 - 3*c^2*r + 3*c*r^2 - r^3)/r^3                                    0]\n",
       "[                                   0                                    0                                    0 -(c^3 - 3*c^2*r + 3*c*r^2 - r^3)/r^3]"
      ]
     },
     "execution_count": 13,
     "metadata": {},
     "output_type": "execute_result"
    }
   ],
   "source": [
    "K3_f=K_f.contract(K_f).contract(K_f)\n",
    "K3_f[:]"
   ]
  },
  {
   "cell_type": "markdown",
   "metadata": {},
   "source": [
    "## 4.2 Trazas y potenciales"
   ]
  },
  {
   "cell_type": "markdown",
   "metadata": {},
   "source": [
    "Primero, se calculan las trazas de cada una de las matrices calculadas anteriormente"
   ]
  },
  {
   "cell_type": "code",
   "execution_count": 14,
   "metadata": {},
   "outputs": [],
   "source": [
    "K=K_f.trace()\n",
    "K2=K2_f.trace()\n",
    "K3=K3_f.trace()"
   ]
  },
  {
   "cell_type": "markdown",
   "metadata": {},
   "source": [
    "Luego, se calculan los potenciales $U_2$ y $U_3$."
   ]
  },
  {
   "cell_type": "code",
   "execution_count": 15,
   "metadata": {},
   "outputs": [
    {
     "data": {
      "text/html": [
       "<html><script type=\"math/tex; mode=display\">\\newcommand{\\Bold}[1]{\\mathbf{#1}}\\frac{2 \\, {\\left(c^{2} - 6 \\, c r + 6 \\, r^{2}\\right)}}{r^{2}}</script></html>"
      ],
      "text/plain": [
       "2*(c^2 - 6*c*r + 6*r^2)/r^2"
      ]
     },
     "execution_count": 15,
     "metadata": {},
     "output_type": "execute_result"
    }
   ],
   "source": [
    "U2=K^2-K2\n",
    "U2.expr()"
   ]
  },
  {
   "cell_type": "code",
   "execution_count": 16,
   "metadata": {},
   "outputs": [
    {
     "data": {
      "text/html": [
       "<html><script type=\"math/tex; mode=display\">\\newcommand{\\Bold}[1]{\\mathbf{#1}}\\frac{12 \\, {\\left(c^{2} - 3 \\, c r + 2 \\, r^{2}\\right)}}{r^{2}}</script></html>"
      ],
      "text/plain": [
       "12*(c^2 - 3*c*r + 2*r^2)/r^2"
      ]
     },
     "execution_count": 16,
     "metadata": {},
     "output_type": "execute_result"
    }
   ],
   "source": [
    "U3=K^3-3*K*K2+2*K3\n",
    "U3.expr()"
   ]
  },
  {
   "cell_type": "markdown",
   "metadata": {},
   "source": [
    "## 4.3 Tensor momento energía efectivo"
   ]
  },
  {
   "cell_type": "markdown",
   "metadata": {},
   "source": [
    "El tensor $X^{\\mu}_\\nu$ viene dado por\n",
    "\n",
    "\\begin{equation}\n",
    "    X^\\mu_\\nu=\\mathcal{K}^\\mu_{\\nu}-[\\mathcal{K}]g^\\mu_\\nu-\\alpha\\left(\\mathcal{K}^{2\\mu}_{\\nu}-[\\mathcal{K}]\\mathcal{K}^\\mu_\\nu+\\dfrac{U_2}{2}g^\\mu_{\\nu}\\right)+3\\beta\\left(\\mathcal{K}^{3\\mu}_\\nu-[\\mathcal{K}]\\mathcal{K}^{2\\mu}_\\nu+\\dfrac{U_2}{2}\\mathcal{K}^\\mu_\\nu-\\dfrac{U_3}{6}g^\\mu_{\\nu}\\right).\n",
    "\\end{equation}\n",
    "\n",
    "Luego, este queda como"
   ]
  },
  {
   "cell_type": "code",
   "execution_count": 17,
   "metadata": {},
   "outputs": [
    {
     "data": {
      "text/html": [
       "<html><script type=\"math/tex; mode=display\">\\newcommand{\\Bold}[1]{\\mathbf{#1}}\\left(\\begin{array}{rrrr}\n",
       "-\\frac{{\\left(\\alpha + 3 \\, \\beta\\right)} c^{2} - 2 \\, {\\left(2 \\, \\alpha + 3 \\, \\beta + 1\\right)} c r + 3 \\, {\\left(\\alpha + \\beta + 1\\right)} r^{2}}{r^{2}} & 0 & 0 & 0 \\\\\n",
       "0 & -\\frac{{\\left(\\alpha + 3 \\, \\beta\\right)} c^{2} - 2 \\, {\\left(2 \\, \\alpha + 3 \\, \\beta + 1\\right)} c r + 3 \\, {\\left(\\alpha + \\beta + 1\\right)} r^{2}}{r^{2}} & 0 & 0 \\\\\n",
       "0 & 0 & \\frac{{\\left(2 \\, \\alpha + 3 \\, \\beta + 1\\right)} c - 3 \\, {\\left(\\alpha + \\beta + 1\\right)} r}{r} & 0 \\\\\n",
       "0 & 0 & 0 & \\frac{{\\left(2 \\, \\alpha + 3 \\, \\beta + 1\\right)} c - 3 \\, {\\left(\\alpha + \\beta + 1\\right)} r}{r}\n",
       "\\end{array}\\right)</script></html>"
      ],
      "text/plain": [
       "[-((alpha + 3*beta)*c^2 - 2*(2*alpha + 3*beta + 1)*c*r + 3*(alpha + beta + 1)*r^2)/r^2                                                                                     0                                                                                     0                                                                                     0]\n",
       "[                                                                                    0 -((alpha + 3*beta)*c^2 - 2*(2*alpha + 3*beta + 1)*c*r + 3*(alpha + beta + 1)*r^2)/r^2                                                                                     0                                                                                     0]\n",
       "[                                                                                    0                                                                                     0                                 ((2*alpha + 3*beta + 1)*c - 3*(alpha + beta + 1)*r)/r                                                                                     0]\n",
       "[                                                                                    0                                                                                     0                                                                                     0                                 ((2*alpha + 3*beta + 1)*c - 3*(alpha + beta + 1)*r)/r]"
      ]
     },
     "execution_count": 17,
     "metadata": {},
     "output_type": "execute_result"
    }
   ],
   "source": [
    "X_ud=K_f-K*g_f_ud-alpha*(K2_f-K*K_f+U2*g_f_ud/2)+3*beta*(K3_f-K*K2_f+K_f*U2/2-g_f_ud*U3/6)\n",
    "X_ud[:]"
   ]
  },
  {
   "cell_type": "markdown",
   "metadata": {},
   "source": [
    "# 5. Ecuaciones de campo y solución"
   ]
  },
  {
   "cell_type": "markdown",
   "metadata": {},
   "source": [
    "Las ecuaciones de campo de la teoría de gravedad másiva en el vació, vienen dadas por\n",
    "\n",
    "\\begin{equation}\n",
    "    G^\\mu_\\nu=-m_g^2X^\\mu_\\nu,\n",
    "\\end{equation}\n",
    "\n",
    "Tomando la componente temporal de la ecuación se obtiene la siguiente ecuación diferencial.\n",
    "\n",
    "\\begin{equation}\n",
    "    \\dfrac{1}{r}\\dfrac{dF(r)}{dr}+\\dfrac{F}{r^2}-\\dfrac{1}{r^2}=m_g^2\\dfrac{(\\alpha+3\\beta)c^2-2(2\\alpha+3\\beta+1)cr+3(\\alpha+\\beta+1)r^2}{r^2}.\n",
    "\\end{equation}\n"
   ]
  },
  {
   "cell_type": "markdown",
   "metadata": {},
   "source": [
    "A continuación se define la ecuación diferencial"
   ]
  },
  {
   "cell_type": "code",
   "execution_count": 18,
   "metadata": {},
   "outputs": [],
   "source": [
    "diffEq=diff(F,r)/r+F/r^2-1/r^2==m_g^2*((alpha+3*beta)*c^2-2*(2*alpha+3*beta+1)*c*r+3*(alpha+beta+1)*r^2)/r^2"
   ]
  },
  {
   "cell_type": "markdown",
   "metadata": {},
   "source": [
    "Luego, usando la función ```desolve()```, se resuelve la ecuación diferencial anterior"
   ]
  },
  {
   "cell_type": "code",
   "execution_count": null,
   "metadata": {
    "scrolled": true
   },
   "outputs": [
    {
     "data": {
      "text/html": [
       "<html><script type=\"math/tex; mode=display\">\\newcommand{\\Bold}[1]{\\mathbf{#1}}\\frac{{\\left(\\alpha + 3 \\, \\beta\\right)} c^{2} m_{g}^{2} r - {\\left(2 \\, \\alpha + 3 \\, \\beta + 1\\right)} c m_{g}^{2} r^{2} + {\\left(\\alpha + \\beta + 1\\right)} m_{g}^{2} r^{3} + C + r}{r}</script></html>"
      ],
      "text/plain": [
       "((alpha + 3*beta)*c^2*m_g^2*r - (2*alpha + 3*beta + 1)*c*m_g^2*r^2 + (alpha + beta + 1)*m_g^2*r^3 + _C + r)/r"
      ]
     },
     "execution_count": 19,
     "metadata": {},
     "output_type": "execute_result"
    }
   ],
   "source": [
    "desolve(diffEq,F,ivar=r)"
   ]
  },
  {
   "cell_type": "markdown",
   "metadata": {},
   "source": [
    "donde, si se define\n",
    "\\begin{gather}\n",
    "    \\Lambda = 3m_g^2(\\alpha+\\beta+1), \\\\\n",
    "    \\gamma = -m_g^2c(2\\alpha+3\\beta+1),\\\\\n",
    "    \\zeta = m_g^2c^2(\\alpha+3\\beta),\n",
    "\\end{gather}\n",
    "\n",
    "y se ajusta la constante de integración $C$ como $2M$, se obtiene\n",
    "\n",
    "\\begin{equation}\n",
    "    F(r)=1-\\dfrac{2M}{r}+\\dfrac{\\Lambda}{3}r^2+\\gamma r +\\zeta.\n",
    "\\end{equation}"
   ]
  }
 ],
 "metadata": {
  "kernelspec": {
   "display_name": "SageMath 9.1",
   "language": "sage",
   "name": "sagemath"
  },
  "language_info": {
   "codemirror_mode": {
    "name": "ipython",
    "version": 3
   },
   "file_extension": ".py",
   "mimetype": "text/x-python",
   "name": "python",
   "nbconvert_exporter": "python",
   "pygments_lexer": "ipython3",
   "version": "3.7.3"
  },
  "widgets": {
   "application/vnd.jupyter.widget-state+json": {
    "state": {},
    "version_major": 2,
    "version_minor": 0
   }
  }
 },
 "nbformat": 4,
 "nbformat_minor": 2
}
