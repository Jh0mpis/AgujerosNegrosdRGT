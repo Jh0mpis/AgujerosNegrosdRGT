{
 "cells": [
  {
   "cell_type": "markdown",
   "metadata": {},
   "source": [
    "# Solución estática de agujero negro en gravedad masiva dRGT"
   ]
  },
  {
   "cell_type": "markdown",
   "metadata": {},
   "source": [
    "Nota: Este cuaderno fue hecho usando SageMath 9.1"
   ]
  },
  {
   "cell_type": "code",
   "execution_count": 1,
   "metadata": {},
   "outputs": [
    {
     "data": {
      "text/plain": [
       "'SageMath version 9.1, Release Date: 2020-05-20'"
      ]
     },
     "execution_count": 1,
     "metadata": {},
     "output_type": "execute_result"
    }
   ],
   "source": [
    "version()"
   ]
  },
  {
   "cell_type": "markdown",
   "metadata": {},
   "source": [
    "Se activa la visualización matemática de Latex"
   ]
  },
  {
   "cell_type": "code",
   "execution_count": 2,
   "metadata": {},
   "outputs": [],
   "source": [
    "%display latex"
   ]
  },
  {
   "cell_type": "markdown",
   "metadata": {},
   "source": [
    "Se usó paralelismo usando 10 hilos"
   ]
  },
  {
   "cell_type": "code",
   "execution_count": 3,
   "metadata": {},
   "outputs": [],
   "source": [
    "Parallelism().set(nproc=10)"
   ]
  },
  {
   "cell_type": "markdown",
   "metadata": {},
   "source": [
    "# 1. Definición del espacio tiempo y variables"
   ]
  },
  {
   "cell_type": "markdown",
   "metadata": {},
   "source": [
    "El espacio-tiempo se define como una variedad lorentziana de 4 dimensiones. Se definen dos espacio-tiempo, la segunda para la métrica de referencia $f$."
   ]
  },
  {
   "cell_type": "code",
   "execution_count": 4,
   "metadata": {},
   "outputs": [],
   "source": [
    "M=Manifold(4, 'M', latex_name=r\"\\mathcal{M}\", structure=\"Lorentzian\")\n",
    "MRef=Manifold(4, 'M1', latex_name=r\"\\mathcal{M}\", structure=\"Lorentzian\")"
   ]
  },
  {
   "cell_type": "markdown",
   "metadata": {},
   "source": [
    "Luego, se introducen las coordenadas esféricas usando el método ```.chart()``` del objeto M. Este método recibe una cadena de texto que incluye el nombre de la coordenada, su rango y el símbolo de Latex con el que se representará. Si no se pasa rango se asumirá como $(-\\infty,+\\infty)$, si se omite el símbolo de latex, la representación será con el nombre de la coordenada."
   ]
  },
  {
   "cell_type": "code",
   "execution_count": 5,
   "metadata": {},
   "outputs": [],
   "source": [
    "BL.<t,r,theta,phi> = M.chart(r\"t r theta:(0,pi):\\theta phi:(0,2*pi):\\phi\")\n",
    "BL.<t,r,theta,phi> = MRef.chart(r\"t r theta:(0,pi):\\theta phi:(0,2*pi):\\phi\")"
   ]
  },
  {
   "cell_type": "markdown",
   "metadata": {},
   "source": [
    "Se definen las variables que usaremos a lo largo del código, usando la función ```var()```."
   ]
  },
  {
   "cell_type": "code",
   "execution_count": 6,
   "metadata": {},
   "outputs": [],
   "source": [
    "var(\"m, a, Lambda, gamma, zeta, c, alpha, beta, m_g\", domain=\"real\")\n",
    "assume(m>=0)\n",
    "assume(m_g>=0)"
   ]
  },
  {
   "cell_type": "markdown",
   "metadata": {},
   "source": [
    "# 2. Tensores Métricos"
   ]
  },
  {
   "cell_type": "markdown",
   "metadata": {},
   "source": [
    "Inicialmente, se comprobará si la función $F(r)$ en la solución estática satisface las ecuaciones de campo. $F(r)$ tiene la forma \n",
    "\n",
    "\\begin{equation}\n",
    "    F(r)=1-\\dfrac{2m}{r}+\\dfrac{\\Lambda}{3}r^2+\\gamma r+\\zeta,\n",
    "\\end{equation}\n",
    "\n",
    "donde, \n",
    "\n",
    "\\begin{gather}\n",
    "    \\Lambda=3m_g^2(1+\\alpha+\\beta),\\\\\n",
    "    \\gamma = -cm_g^2(1+2\\alpha+3\\beta),\\\\\n",
    "    \\zeta=c^2m^2_g(\\alpha+3\\beta).\n",
    "\\end{gather}"
   ]
  },
  {
   "cell_type": "markdown",
   "metadata": {},
   "source": [
    "Las dependencias de $\\Lambda, \\gamma\\text{ y }\\zeta$ se definen como sigue"
   ]
  },
  {
   "cell_type": "code",
   "execution_count": 7,
   "metadata": {},
   "outputs": [],
   "source": [
    "Lambda=3*m_g^2*(1+alpha+beta)\n",
    "gamma=-c*m_g^2*(1+2*alpha+3*beta)\n",
    "zeta=c^2*m_g^2*(alpha+3*beta)"
   ]
  },
  {
   "cell_type": "markdown",
   "metadata": {},
   "source": [
    "## 2.1 Métrica covariante"
   ]
  },
  {
   "cell_type": "markdown",
   "metadata": {},
   "source": [
    "Inicialmente, el elemento de línea viene dado por \n",
    "\n",
    "\\begin{equation}\n",
    "    ds^2=-F(r)dt^2+\\dfrac{1}{F(r)}dr^2+r^2d\\Omega^2.\n",
    "\\end{equation}\n",
    "\n",
    "Por tanto la métrica, en su forma covariante ($g_{\\mu\\nu}$) queda expresada como:"
   ]
  },
  {
   "cell_type": "code",
   "execution_count": 8,
   "metadata": {},
   "outputs": [
    {
     "data": {
      "text/html": [
       "<html><script type=\"math/tex; mode=display\">\\newcommand{\\Bold}[1]{\\mathbf{#1}}\\left(\\begin{array}{rrrr}\n",
       "-{\\left(\\alpha + 3 \\, \\beta\\right)} c^{2} m_{g}^{2} + {\\left(2 \\, \\alpha + 3 \\, \\beta + 1\\right)} c m_{g}^{2} r - {\\left(\\alpha + \\beta + 1\\right)} m_{g}^{2} r^{2} + \\frac{2 \\, m}{r} - 1 & 0 & 0 & 0 \\\\\n",
       "0 & \\frac{1}{{\\left(\\alpha + 3 \\, \\beta\\right)} c^{2} m_{g}^{2} - {\\left(2 \\, \\alpha + 3 \\, \\beta + 1\\right)} c m_{g}^{2} r + {\\left(\\alpha + \\beta + 1\\right)} m_{g}^{2} r^{2} - \\frac{2 \\, m}{r} + 1} & 0 & 0 \\\\\n",
       "0 & 0 & r^{2} & 0 \\\\\n",
       "0 & 0 & 0 & r^{2} \\sin\\left({\\theta}\\right)^{2}\n",
       "\\end{array}\\right)</script></html>"
      ],
      "text/plain": [
       "[   -(alpha + 3*beta)*c^2*m_g^2 + (2*alpha + 3*beta + 1)*c*m_g^2*r - (alpha + beta + 1)*m_g^2*r^2 + 2*m/r - 1                                                                                                            0                                                                                                            0                                                                                                            0]\n",
       "[                                                                                                           0 1/((alpha + 3*beta)*c^2*m_g^2 - (2*alpha + 3*beta + 1)*c*m_g^2*r + (alpha + beta + 1)*m_g^2*r^2 - 2*m/r + 1)                                                                                                            0                                                                                                            0]\n",
       "[                                                                                                           0                                                                                                            0                                                                                                          r^2                                                                                                            0]\n",
       "[                                                                                                           0                                                                                                            0                                                                                                            0                                                                                             r^2*sin(theta)^2]"
      ]
     },
     "execution_count": 8,
     "metadata": {},
     "output_type": "execute_result"
    }
   ],
   "source": [
    "g=M.metric()\n",
    "func=1-2*m/r+Lambda*r^2/3+gamma*r+zeta\n",
    "g[0,0]=-func\n",
    "g[1,1]=1/(func)\n",
    "g[2,2]=r^2\n",
    "g[3,3]=(r*sin(theta))^2\n",
    "g[:]"
   ]
  },
  {
   "cell_type": "markdown",
   "metadata": {},
   "source": [
    "## 2.2 Métrica Contravariante"
   ]
  },
  {
   "cell_type": "markdown",
   "metadata": {},
   "source": [
    "Mientras que la métrica en su forma contravariante ($g^{\\mu\\nu}$) queda como:"
   ]
  },
  {
   "cell_type": "code",
   "execution_count": 9,
   "metadata": {},
   "outputs": [
    {
     "data": {
      "text/html": [
       "<html><script type=\"math/tex; mode=display\">\\newcommand{\\Bold}[1]{\\mathbf{#1}}\\left(\\begin{array}{rrrr}\n",
       "\\frac{r}{{\\left(2 \\, \\alpha + 3 \\, \\beta + 1\\right)} c m_{g}^{2} r^{2} - {\\left(\\alpha + \\beta + 1\\right)} m_{g}^{2} r^{3} - {\\left({\\left(\\alpha + 3 \\, \\beta\\right)} c^{2} m_{g}^{2} + 1\\right)} r + 2 \\, m} & 0 & 0 & 0 \\\\\n",
       "0 & -\\frac{{\\left(2 \\, \\alpha + 3 \\, \\beta + 1\\right)} c m_{g}^{2} r^{2} - {\\left(\\alpha + \\beta + 1\\right)} m_{g}^{2} r^{3} - {\\left({\\left(\\alpha + 3 \\, \\beta\\right)} c^{2} m_{g}^{2} + 1\\right)} r + 2 \\, m}{r} & 0 & 0 \\\\\n",
       "0 & 0 & \\frac{1}{r^{2}} & 0 \\\\\n",
       "0 & 0 & 0 & \\frac{1}{r^{2} \\sin\\left({\\theta}\\right)^{2}}\n",
       "\\end{array}\\right)</script></html>"
      ],
      "text/plain": [
       "[ r/((2*alpha + 3*beta + 1)*c*m_g^2*r^2 - (alpha + beta + 1)*m_g^2*r^3 - ((alpha + 3*beta)*c^2*m_g^2 + 1)*r + 2*m)                                                                                                                 0                                                                                                                 0                                                                                                                 0]\n",
       "[                                                                                                                0 -((2*alpha + 3*beta + 1)*c*m_g^2*r^2 - (alpha + beta + 1)*m_g^2*r^3 - ((alpha + 3*beta)*c^2*m_g^2 + 1)*r + 2*m)/r                                                                                                                 0                                                                                                                 0]\n",
       "[                                                                                                                0                                                                                                                 0                                                                                                            r^(-2)                                                                                                                 0]\n",
       "[                                                                                                                0                                                                                                                 0                                                                                                                 0                                                                                              1/(r^2*sin(theta)^2)]"
      ]
     },
     "execution_count": 9,
     "metadata": {},
     "output_type": "execute_result"
    }
   ],
   "source": [
    "g_uu=g.up(g)\n",
    "g_uu[:]"
   ]
  },
  {
   "cell_type": "markdown",
   "metadata": {},
   "source": [
    "## 2.3 Métrica de referencia"
   ]
  },
  {
   "cell_type": "markdown",
   "metadata": {},
   "source": [
    "Dado que la teoría de gravedad masiva dRGT corresponde a una teoría de bi-gravedad, la métrica de referencia $f_{\\mu\\nu}$ que se usará será"
   ]
  },
  {
   "cell_type": "code",
   "execution_count": 10,
   "metadata": {},
   "outputs": [
    {
     "data": {
      "text/html": [
       "<html><script type=\"math/tex; mode=display\">\\newcommand{\\Bold}[1]{\\mathbf{#1}}\\left(\\begin{array}{rrrr}\n",
       "0 & 0 & 0 & 0 \\\\\n",
       "0 & 0 & 0 & 0 \\\\\n",
       "0 & 0 & c^{2} & 0 \\\\\n",
       "0 & 0 & 0 & c^{2} \\sin\\left({\\theta}\\right)^{2}\n",
       "\\end{array}\\right)</script></html>"
      ],
      "text/plain": [
       "[               0                0                0                0]\n",
       "[               0                0                0                0]\n",
       "[               0                0              c^2                0]\n",
       "[               0                0                0 c^2*sin(theta)^2]"
      ]
     },
     "execution_count": 10,
     "metadata": {},
     "output_type": "execute_result"
    }
   ],
   "source": [
    "f=MRef.metric()\n",
    "f[2,2]=c^2\n",
    "f[3,3]=(c*sin(theta))^2\n",
    "f[:]"
   ]
  },
  {
   "cell_type": "markdown",
   "metadata": {},
   "source": [
    "# 3. Tensor de Einstein $G_{\\mu\\nu}$"
   ]
  },
  {
   "cell_type": "markdown",
   "metadata": {},
   "source": [
    "## 3.1 Tensor de Ricci"
   ]
  },
  {
   "cell_type": "markdown",
   "metadata": {},
   "source": [
    "Inicialmente se calcula el tensor de Ricci $R_{\\mu\\nu}$ usando el método ```.ricci()```."
   ]
  },
  {
   "cell_type": "code",
   "execution_count": 11,
   "metadata": {},
   "outputs": [
    {
     "data": {
      "text/html": [
       "<html><script type=\"math/tex; mode=display\">\\newcommand{\\Bold}[1]{\\mathbf{#1}}\\left(\\begin{array}{rrrr}\n",
       "-\\frac{4 \\, {\\left(2 \\, \\alpha^{2} + {\\left(5 \\, \\alpha + 4\\right)} \\beta + 3 \\, \\beta^{2} + 3 \\, \\alpha + 1\\right)} c m_{g}^{4} r^{3} - 3 \\, {\\left(\\alpha^{2} + 2 \\, {\\left(\\alpha + 1\\right)} \\beta + \\beta^{2} + 2 \\, \\alpha + 1\\right)} m_{g}^{4} r^{4} - 2 \\, {\\left(2 \\, \\alpha + 3 \\, \\beta + 1\\right)} c m m_{g}^{2} - {\\left({\\left(7 \\, \\alpha^{2} + 3 \\, {\\left(8 \\, \\alpha + 5\\right)} \\beta + 18 \\, \\beta^{2} + 7 \\, \\alpha + 1\\right)} c^{2} m_{g}^{4} + 3 \\, {\\left(\\alpha + \\beta + 1\\right)} m_{g}^{2}\\right)} r^{2} + {\\left({\\left(2 \\, \\alpha^{2} + 3 \\, {\\left(3 \\, \\alpha + 1\\right)} \\beta + 9 \\, \\beta^{2} + \\alpha\\right)} c^{3} m_{g}^{4} + {\\left({\\left(2 \\, \\alpha + 3 \\, \\beta + 1\\right)} c + 6 \\, {\\left(\\alpha + \\beta + 1\\right)} m\\right)} m_{g}^{2}\\right)} r}{r^{2}} & 0 & 0 & 0 \\\\\n",
       "0 & -\\frac{{\\left(2 \\, \\alpha + 3 \\, \\beta + 1\\right)} c m_{g}^{2} - 3 \\, {\\left(\\alpha + \\beta + 1\\right)} m_{g}^{2} r}{{\\left(2 \\, \\alpha + 3 \\, \\beta + 1\\right)} c m_{g}^{2} r^{2} - {\\left(\\alpha + \\beta + 1\\right)} m_{g}^{2} r^{3} - {\\left({\\left(\\alpha + 3 \\, \\beta\\right)} c^{2} m_{g}^{2} + 1\\right)} r + 2 \\, m} & 0 & 0 \\\\\n",
       "0 & 0 & -{\\left(\\alpha + 3 \\, \\beta\\right)} c^{2} m_{g}^{2} + 2 \\, {\\left(2 \\, \\alpha + 3 \\, \\beta + 1\\right)} c m_{g}^{2} r - 3 \\, {\\left(\\alpha + \\beta + 1\\right)} m_{g}^{2} r^{2} & 0 \\\\\n",
       "0 & 0 & 0 & -{\\left({\\left(\\alpha + 3 \\, \\beta\\right)} c^{2} m_{g}^{2} - 2 \\, {\\left(2 \\, \\alpha + 3 \\, \\beta + 1\\right)} c m_{g}^{2} r + 3 \\, {\\left(\\alpha + \\beta + 1\\right)} m_{g}^{2} r^{2}\\right)} \\sin\\left({\\theta}\\right)^{2}\n",
       "\\end{array}\\right)</script></html>"
      ],
      "text/plain": [
       "[-(4*(2*alpha^2 + (5*alpha + 4)*beta + 3*beta^2 + 3*alpha + 1)*c*m_g^4*r^3 - 3*(alpha^2 + 2*(alpha + 1)*beta + beta^2 + 2*alpha + 1)*m_g^4*r^4 - 2*(2*alpha + 3*beta + 1)*c*m*m_g^2 - ((7*alpha^2 + 3*(8*alpha + 5)*beta + 18*beta^2 + 7*alpha + 1)*c^2*m_g^4 + 3*(alpha + beta + 1)*m_g^2)*r^2 + ((2*alpha^2 + 3*(3*alpha + 1)*beta + 9*beta^2 + alpha)*c^3*m_g^4 + ((2*alpha + 3*beta + 1)*c + 6*(alpha + beta + 1)*m)*m_g^2)*r)/r^2                                                                                                                                                                                                                                                                                                                                                                                                                                     0                                                                                                                                                                                                                                                                                                                                                                                                                                     0                                                                                                                                                                                                                                                                                                                                                                                                                                     0]\n",
       "[                                                                                                                                                                                                                                                                                                                                                                                                                                    0                                                                                                                                                                                                                                                       -((2*alpha + 3*beta + 1)*c*m_g^2 - 3*(alpha + beta + 1)*m_g^2*r)/((2*alpha + 3*beta + 1)*c*m_g^2*r^2 - (alpha + beta + 1)*m_g^2*r^3 - ((alpha + 3*beta)*c^2*m_g^2 + 1)*r + 2*m)                                                                                                                                                                                                                                                                                                                                                                                                                                     0                                                                                                                                                                                                                                                                                                                                                                                                                                     0]\n",
       "[                                                                                                                                                                                                                                                                                                                                                                                                                                    0                                                                                                                                                                                                                                                                                                                                                                                                                                     0                                                                                                                                                                                                                                                                                                                                     -(alpha + 3*beta)*c^2*m_g^2 + 2*(2*alpha + 3*beta + 1)*c*m_g^2*r - 3*(alpha + beta + 1)*m_g^2*r^2                                                                                                                                                                                                                                                                                                                                                                                                                                     0]\n",
       "[                                                                                                                                                                                                                                                                                                                                                                                                                                    0                                                                                                                                                                                                                                                                                                                                                                                                                                     0                                                                                                                                                                                                                                                                                                                                                                                                                                     0                                                                                                                                                                                                                                                                                                                      -((alpha + 3*beta)*c^2*m_g^2 - 2*(2*alpha + 3*beta + 1)*c*m_g^2*r + 3*(alpha + beta + 1)*m_g^2*r^2)*sin(theta)^2]"
      ]
     },
     "execution_count": 11,
     "metadata": {},
     "output_type": "execute_result"
    }
   ],
   "source": [
    "Ricci=g.ricci()\n",
    "Ricci=Ricci.down(g)\n",
    "Ricci[:]"
   ]
  },
  {
   "cell_type": "markdown",
   "metadata": {},
   "source": [
    "## 3.2 Escalar de curvatura"
   ]
  },
  {
   "cell_type": "markdown",
   "metadata": {},
   "source": [
    "Luego, se calcula el escalar de Ricci $R$ usando el método ```.ricci_scalar()```"
   ]
  },
  {
   "cell_type": "code",
   "execution_count": 12,
   "metadata": {},
   "outputs": [
    {
     "data": {
      "text/html": [
       "<html><script type=\"math/tex; mode=display\">\\newcommand{\\Bold}[1]{\\mathbf{#1}}-\\frac{2 \\, {\\left({\\left(\\alpha + 3 \\, \\beta\\right)} c^{2} m_{g}^{2} - 3 \\, {\\left(2 \\, \\alpha + 3 \\, \\beta + 1\\right)} c m_{g}^{2} r + 6 \\, {\\left(\\alpha + \\beta + 1\\right)} m_{g}^{2} r^{2}\\right)}}{r^{2}}</script></html>"
      ],
      "text/plain": [
       "-2*((alpha + 3*beta)*c^2*m_g^2 - 3*(2*alpha + 3*beta + 1)*c*m_g^2*r + 6*(alpha + beta + 1)*m_g^2*r^2)/r^2"
      ]
     },
     "execution_count": 12,
     "metadata": {},
     "output_type": "execute_result"
    }
   ],
   "source": [
    "R=g.ricci_scalar()\n",
    "R.expr()"
   ]
  },
  {
   "cell_type": "markdown",
   "metadata": {},
   "source": [
    "## 3.3 Tensor de Einstein"
   ]
  },
  {
   "cell_type": "markdown",
   "metadata": {},
   "source": [
    "Usando la definición del tensor de Einstein, el cual viene dado por\n",
    "\n",
    "\\begin{equation}\n",
    "    G_{\\mu\\nu}=R_{\\mu\\nu}-\\dfrac{1}{2}Rg_{\\mu\\nu},\n",
    "\\end{equation}\n",
    "\n",
    "se obtiene"
   ]
  },
  {
   "cell_type": "code",
   "execution_count": 13,
   "metadata": {},
   "outputs": [
    {
     "data": {
      "text/html": [
       "<html><script type=\"math/tex; mode=display\">\\newcommand{\\Bold}[1]{\\mathbf{#1}}\\left(\\begin{array}{rrrr}\n",
       "\\frac{5 \\, {\\left(2 \\, \\alpha^{2} + {\\left(5 \\, \\alpha + 4\\right)} \\beta + 3 \\, \\beta^{2} + 3 \\, \\alpha + 1\\right)} c m_{g}^{4} r^{4} - 3 \\, {\\left(\\alpha^{2} + 2 \\, {\\left(\\alpha + 1\\right)} \\beta + \\beta^{2} + 2 \\, \\alpha + 1\\right)} m_{g}^{4} r^{5} + 2 \\, {\\left(\\alpha + 3 \\, \\beta\\right)} c^{2} m m_{g}^{2} - {\\left(2 \\, {\\left(6 \\, \\alpha^{2} + 4 \\, {\\left(5 \\, \\alpha + 3\\right)} \\beta + 15 \\, \\beta^{2} + 6 \\, \\alpha + 1\\right)} c^{2} m_{g}^{4} + 3 \\, {\\left(\\alpha + \\beta + 1\\right)} m_{g}^{2}\\right)} r^{3} + {\\left(3 \\, {\\left(2 \\, \\alpha^{2} + 3 \\, {\\left(3 \\, \\alpha + 1\\right)} \\beta + 9 \\, \\beta^{2} + \\alpha\\right)} c^{3} m_{g}^{4} + 2 \\, {\\left({\\left(2 \\, \\alpha + 3 \\, \\beta + 1\\right)} c + 3 \\, {\\left(\\alpha + \\beta + 1\\right)} m\\right)} m_{g}^{2}\\right)} r^{2} - {\\left({\\left(\\alpha^{2} + 6 \\, \\alpha \\beta + 9 \\, \\beta^{2}\\right)} c^{4} m_{g}^{4} + {\\left({\\left(\\alpha + 3 \\, \\beta\\right)} c^{2} + 4 \\, {\\left(2 \\, \\alpha + 3 \\, \\beta + 1\\right)} c m\\right)} m_{g}^{2}\\right)} r}{r^{3}} & 0 & 0 & 0 \\\\\n",
       "0 & -\\frac{{\\left(\\alpha + 3 \\, \\beta\\right)} c^{2} m_{g}^{2} - 2 \\, {\\left(2 \\, \\alpha + 3 \\, \\beta + 1\\right)} c m_{g}^{2} r + 3 \\, {\\left(\\alpha + \\beta + 1\\right)} m_{g}^{2} r^{2}}{{\\left(2 \\, \\alpha + 3 \\, \\beta + 1\\right)} c m_{g}^{2} r^{3} - {\\left(\\alpha + \\beta + 1\\right)} m_{g}^{2} r^{4} - {\\left({\\left(\\alpha + 3 \\, \\beta\\right)} c^{2} m_{g}^{2} + 1\\right)} r^{2} + 2 \\, m r} & 0 & 0 \\\\\n",
       "0 & 0 & -{\\left(2 \\, \\alpha + 3 \\, \\beta + 1\\right)} c m_{g}^{2} r + 3 \\, {\\left(\\alpha + \\beta + 1\\right)} m_{g}^{2} r^{2} & 0 \\\\\n",
       "0 & 0 & 0 & -{\\left({\\left(2 \\, \\alpha + 3 \\, \\beta + 1\\right)} c m_{g}^{2} r - 3 \\, {\\left(\\alpha + \\beta + 1\\right)} m_{g}^{2} r^{2}\\right)} \\sin\\left({\\theta}\\right)^{2}\n",
       "\\end{array}\\right)</script></html>"
      ],
      "text/plain": [
       "[(5*(2*alpha^2 + (5*alpha + 4)*beta + 3*beta^2 + 3*alpha + 1)*c*m_g^4*r^4 - 3*(alpha^2 + 2*(alpha + 1)*beta + beta^2 + 2*alpha + 1)*m_g^4*r^5 + 2*(alpha + 3*beta)*c^2*m*m_g^2 - (2*(6*alpha^2 + 4*(5*alpha + 3)*beta + 15*beta^2 + 6*alpha + 1)*c^2*m_g^4 + 3*(alpha + beta + 1)*m_g^2)*r^3 + (3*(2*alpha^2 + 3*(3*alpha + 1)*beta + 9*beta^2 + alpha)*c^3*m_g^4 + 2*((2*alpha + 3*beta + 1)*c + 3*(alpha + beta + 1)*m)*m_g^2)*r^2 - ((alpha^2 + 6*alpha*beta + 9*beta^2)*c^4*m_g^4 + ((alpha + 3*beta)*c^2 + 4*(2*alpha + 3*beta + 1)*c*m)*m_g^2)*r)/r^3                                                                                                                                                                                                                                                                                                                                                                                                                                                                                                                                                          0                                                                                                                                                                                                                                                                                                                                                                                                                                                                                                                                                          0                                                                                                                                                                                                                                                                                                                                                                                                                                                                                                                                                          0]\n",
       "[                                                                                                                                                                                                                                                                                                                                                                                                                                                                                                                                                         0                                                                                                                                                                                                                                                                                                                                     -((alpha + 3*beta)*c^2*m_g^2 - 2*(2*alpha + 3*beta + 1)*c*m_g^2*r + 3*(alpha + beta + 1)*m_g^2*r^2)/((2*alpha + 3*beta + 1)*c*m_g^2*r^3 - (alpha + beta + 1)*m_g^2*r^4 - ((alpha + 3*beta)*c^2*m_g^2 + 1)*r^2 + 2*m*r)                                                                                                                                                                                                                                                                                                                                                                                                                                                                                                                                                          0                                                                                                                                                                                                                                                                                                                                                                                                                                                                                                                                                          0]\n",
       "[                                                                                                                                                                                                                                                                                                                                                                                                                                                                                                                                                         0                                                                                                                                                                                                                                                                                                                                                                                                                                                                                                                                                          0                                                                                                                                                                                                                                                                                                                                                                                                                                                                                         -(2*alpha + 3*beta + 1)*c*m_g^2*r + 3*(alpha + beta + 1)*m_g^2*r^2                                                                                                                                                                                                                                                                                                                                                                                                                                                                                                                                                          0]\n",
       "[                                                                                                                                                                                                                                                                                                                                                                                                                                                                                                                                                         0                                                                                                                                                                                                                                                                                                                                                                                                                                                                                                                                                          0                                                                                                                                                                                                                                                                                                                                                                                                                                                                                                                                                          0                                                                                                                                                                                                                                                                                                                                                                                                                                                                          -((2*alpha + 3*beta + 1)*c*m_g^2*r - 3*(alpha + beta + 1)*m_g^2*r^2)*sin(theta)^2]"
      ]
     },
     "execution_count": 13,
     "metadata": {},
     "output_type": "execute_result"
    }
   ],
   "source": [
    "G=M.tensor_field(0, 2, name=r'G_{\\mu\\nu}') \n",
    "G=Ricci-R*g/2\n",
    "G[:]"
   ]
  },
  {
   "cell_type": "markdown",
   "metadata": {},
   "source": [
    "# 4. Tensor momento energía efectivo $X_{\\mu\\nu}$"
   ]
  },
  {
   "cell_type": "markdown",
   "metadata": {},
   "source": [
    "Para obtener las ecuaciones de campo, es necesario obtener el tensor de momento energía efectivo de la teoría de gravedad másiva dRGT $X_{\\mu\\nu}$. Este está expresado een términos del tensor $\\mathcal{K}_{\\mu\\nu}$, el cual está definido como\n",
    "\n",
    "\\begin{equation}\n",
    "    \\mathcal{K}^\\mu_\\nu=\\delta^\\mu_\\nu-\\sqrt{g^{\\mu\\sigma}f_{ab}\\partial_\\sigma\\phi^a\\partial_\\nu \\phi^b}.\n",
    "\\end{equation}\n",
    "\n",
    "Para el calculó se usrá el gauge unitario, es decir, $\\phi^\\mu=x^\\mu$. Por tanto, $\\partial_\\sigma\\phi^a=\\delta_\\sigma^a$. Luego,\n",
    "    \n",
    "\\begin{equation}\n",
    "    \\mathcal{K}^\\mu_\\nu=\\delta^\\mu_\\nu-\\sqrt{g^{\\mu\\sigma}f_{\\sigma\\nu}},\n",
    "\\end{equation}\n",
    " \n",
    "como $f$ y $g$ son diagonales, los únicos elementos de $\\mathcal{K}$ diferentes de cero serán los de la diagonal. Teniendo esto en cuenta, se obtiene\n",
    "\n",
    "\\begin{equation}\n",
    "    \\mathcal{K}^\\mu_\\mu=1-\\sqrt{g^{\\mu\\mu}f_{\\mu\\mu}}.\n",
    "\\end{equation}"
   ]
  },
  {
   "cell_type": "markdown",
   "metadata": {},
   "source": [
    "## 4.1 Tensores $\\mathcal{K}_{\\mu\\nu}$, $\\mathcal{K}^2_{\\mu\\nu}$, $\\mathcal{K}^3_{\\mu\\nu}$"
   ]
  },
  {
   "cell_type": "markdown",
   "metadata": {},
   "source": [
    "Por tanto, el tensor $\\mathcal{K}^\\mu_{\\nu}$, quedará expresado como"
   ]
  },
  {
   "cell_type": "code",
   "execution_count": 14,
   "metadata": {},
   "outputs": [
    {
     "data": {
      "text/html": [
       "<html><script type=\"math/tex; mode=display\">\\newcommand{\\Bold}[1]{\\mathbf{#1}}\\left(\\begin{array}{rrrr}\n",
       "1 & 0 & 0 & 0 \\\\\n",
       "0 & 1 & 0 & 0 \\\\\n",
       "0 & 0 & -\\frac{c}{r} + 1 & 0 \\\\\n",
       "0 & 0 & 0 & -\\frac{c}{r} + 1\n",
       "\\end{array}\\right)</script></html>"
      ],
      "text/plain": [
       "[       1        0        0        0]\n",
       "[       0        1        0        0]\n",
       "[       0        0 -c/r + 1        0]\n",
       "[       0        0        0 -c/r + 1]"
      ]
     },
     "execution_count": 14,
     "metadata": {},
     "output_type": "execute_result"
    }
   ],
   "source": [
    "K=M.tensor_field(1, 1, name='K') \n",
    "K[0,0]=1\n",
    "K[1,1]=K[0,0]\n",
    "K[2,2]=1-c/r\n",
    "K[3,3]=1-c/(r)\n",
    "K[:]"
   ]
  },
  {
   "cell_type": "markdown",
   "metadata": {},
   "source": [
    "Y este mismo tensor con los índices abajo ($\\mathcal{K}_{\\mu\\nu}$) queda como"
   ]
  },
  {
   "cell_type": "code",
   "execution_count": 15,
   "metadata": {},
   "outputs": [
    {
     "data": {
      "text/html": [
       "<html><script type=\"math/tex; mode=display\">\\newcommand{\\Bold}[1]{\\mathbf{#1}}\\left(\\begin{array}{rrrr}\n",
       "\\frac{{\\left(2 \\, \\alpha + 3 \\, \\beta + 1\\right)} c m_{g}^{2} r^{2} - {\\left(\\alpha + \\beta + 1\\right)} m_{g}^{2} r^{3} - {\\left({\\left(\\alpha + 3 \\, \\beta\\right)} c^{2} m_{g}^{2} + 1\\right)} r + 2 \\, m}{r} & 0 & 0 & 0 \\\\\n",
       "0 & -\\frac{r}{{\\left(2 \\, \\alpha + 3 \\, \\beta + 1\\right)} c m_{g}^{2} r^{2} - {\\left(\\alpha + \\beta + 1\\right)} m_{g}^{2} r^{3} - {\\left({\\left(\\alpha + 3 \\, \\beta\\right)} c^{2} m_{g}^{2} + 1\\right)} r + 2 \\, m} & 0 & 0 \\\\\n",
       "0 & 0 & -c r + r^{2} & 0 \\\\\n",
       "0 & 0 & 0 & -{\\left(c r - r^{2}\\right)} \\sin\\left({\\theta}\\right)^{2}\n",
       "\\end{array}\\right)</script></html>"
      ],
      "text/plain": [
       "[ ((2*alpha + 3*beta + 1)*c*m_g^2*r^2 - (alpha + beta + 1)*m_g^2*r^3 - ((alpha + 3*beta)*c^2*m_g^2 + 1)*r + 2*m)/r                                                                                                                 0                                                                                                                 0                                                                                                                 0]\n",
       "[                                                                                                                0 -r/((2*alpha + 3*beta + 1)*c*m_g^2*r^2 - (alpha + beta + 1)*m_g^2*r^3 - ((alpha + 3*beta)*c^2*m_g^2 + 1)*r + 2*m)                                                                                                                 0                                                                                                                 0]\n",
       "[                                                                                                                0                                                                                                                 0                                                                                                        -c*r + r^2                                                                                                                 0]\n",
       "[                                                                                                                0                                                                                                                 0                                                                                                                 0                                                                                         -(c*r - r^2)*sin(theta)^2]"
      ]
     },
     "execution_count": 15,
     "metadata": {},
     "output_type": "execute_result"
    }
   ],
   "source": [
    "K_dd=K.down(g,0)\n",
    "K_dd[:]"
   ]
  },
  {
   "cell_type": "markdown",
   "metadata": {},
   "source": [
    "El tensor, $\\mathcal{K}^2_{\\mu\\nu}=\\mathcal{K}_{\\mu\\sigma}\\mathcal{K}^\\sigma_\\nu$ queda escrito como"
   ]
  },
  {
   "cell_type": "code",
   "execution_count": 16,
   "metadata": {},
   "outputs": [
    {
     "data": {
      "text/html": [
       "<html><script type=\"math/tex; mode=display\">\\newcommand{\\Bold}[1]{\\mathbf{#1}}\\left(\\begin{array}{rrrr}\n",
       "\\frac{{\\left(2 \\, \\alpha + 3 \\, \\beta + 1\\right)} c m_{g}^{2} r^{2} - {\\left(\\alpha + \\beta + 1\\right)} m_{g}^{2} r^{3} - {\\left({\\left(\\alpha + 3 \\, \\beta\\right)} c^{2} m_{g}^{2} + 1\\right)} r + 2 \\, m}{r} & 0 & 0 & 0 \\\\\n",
       "0 & -\\frac{r}{{\\left(2 \\, \\alpha + 3 \\, \\beta + 1\\right)} c m_{g}^{2} r^{2} - {\\left(\\alpha + \\beta + 1\\right)} m_{g}^{2} r^{3} - {\\left({\\left(\\alpha + 3 \\, \\beta\\right)} c^{2} m_{g}^{2} + 1\\right)} r + 2 \\, m} & 0 & 0 \\\\\n",
       "0 & 0 & c^{2} - 2 \\, c r + r^{2} & 0 \\\\\n",
       "0 & 0 & 0 & {\\left(c^{2} - 2 \\, c r + r^{2}\\right)} \\sin\\left({\\theta}\\right)^{2}\n",
       "\\end{array}\\right)</script></html>"
      ],
      "text/plain": [
       "[ ((2*alpha + 3*beta + 1)*c*m_g^2*r^2 - (alpha + beta + 1)*m_g^2*r^3 - ((alpha + 3*beta)*c^2*m_g^2 + 1)*r + 2*m)/r                                                                                                                 0                                                                                                                 0                                                                                                                 0]\n",
       "[                                                                                                                0 -r/((2*alpha + 3*beta + 1)*c*m_g^2*r^2 - (alpha + beta + 1)*m_g^2*r^3 - ((alpha + 3*beta)*c^2*m_g^2 + 1)*r + 2*m)                                                                                                                 0                                                                                                                 0]\n",
       "[                                                                                                                0                                                                                                                 0                                                                                                 c^2 - 2*c*r + r^2                                                                                                                 0]\n",
       "[                                                                                                                0                                                                                                                 0                                                                                                                 0                                                                                  (c^2 - 2*c*r + r^2)*sin(theta)^2]"
      ]
     },
     "execution_count": 16,
     "metadata": {},
     "output_type": "execute_result"
    }
   ],
   "source": [
    "K2_dd=K_dd.contract(K)\n",
    "K2_dd[:]"
   ]
  },
  {
   "cell_type": "markdown",
   "metadata": {},
   "source": [
    "Y $\\mathcal{K}^3_{\\mu\\nu}=\\mathcal{K}^\\mu_\\sigma\\mathcal{K}^2_{\\sigma\\nu}$ queda de la forma"
   ]
  },
  {
   "cell_type": "code",
   "execution_count": 17,
   "metadata": {},
   "outputs": [
    {
     "data": {
      "text/html": [
       "<html><script type=\"math/tex; mode=display\">\\newcommand{\\Bold}[1]{\\mathbf{#1}}\\left(\\begin{array}{rrrr}\n",
       "\\frac{{\\left(2 \\, \\alpha + 3 \\, \\beta + 1\\right)} c m_{g}^{2} r^{2} - {\\left(\\alpha + \\beta + 1\\right)} m_{g}^{2} r^{3} - {\\left({\\left(\\alpha + 3 \\, \\beta\\right)} c^{2} m_{g}^{2} + 1\\right)} r + 2 \\, m}{r} & 0 & 0 & 0 \\\\\n",
       "0 & -\\frac{r}{{\\left(2 \\, \\alpha + 3 \\, \\beta + 1\\right)} c m_{g}^{2} r^{2} - {\\left(\\alpha + \\beta + 1\\right)} m_{g}^{2} r^{3} - {\\left({\\left(\\alpha + 3 \\, \\beta\\right)} c^{2} m_{g}^{2} + 1\\right)} r + 2 \\, m} & 0 & 0 \\\\\n",
       "0 & 0 & -\\frac{c^{3} - 3 \\, c^{2} r + 3 \\, c r^{2} - r^{3}}{r} & 0 \\\\\n",
       "0 & 0 & 0 & -\\frac{{\\left(c^{3} - 3 \\, c^{2} r + 3 \\, c r^{2} - r^{3}\\right)} \\sin\\left({\\theta}\\right)^{2}}{r}\n",
       "\\end{array}\\right)</script></html>"
      ],
      "text/plain": [
       "[ ((2*alpha + 3*beta + 1)*c*m_g^2*r^2 - (alpha + beta + 1)*m_g^2*r^3 - ((alpha + 3*beta)*c^2*m_g^2 + 1)*r + 2*m)/r                                                                                                                 0                                                                                                                 0                                                                                                                 0]\n",
       "[                                                                                                                0 -r/((2*alpha + 3*beta + 1)*c*m_g^2*r^2 - (alpha + beta + 1)*m_g^2*r^3 - ((alpha + 3*beta)*c^2*m_g^2 + 1)*r + 2*m)                                                                                                                 0                                                                                                                 0]\n",
       "[                                                                                                                0                                                                                                                 0                                                                                -(c^3 - 3*c^2*r + 3*c*r^2 - r^3)/r                                                                                                                 0]\n",
       "[                                                                                                                0                                                                                                                 0                                                                                                                 0                                                                   -(c^3 - 3*c^2*r + 3*c*r^2 - r^3)*sin(theta)^2/r]"
      ]
     },
     "execution_count": 17,
     "metadata": {},
     "output_type": "execute_result"
    }
   ],
   "source": [
    "K3_dd=K.up(g).contract(K2_dd)\n",
    "K3_dd=K3_dd.down(g)\n",
    "K3_dd[:]"
   ]
  },
  {
   "cell_type": "markdown",
   "metadata": {},
   "source": [
    "## 4.2 Trazas y potenciales"
   ]
  },
  {
   "cell_type": "markdown",
   "metadata": {},
   "source": [
    "Luego, se calculan las trazas de las matrices $\\mathcal{K}^\\nu_{\\nu}=[\\mathcal{K}]$, $\\mathcal{K}^{2\\nu}_\\nu=[\\mathcal{K}^2]$ y $\\mathcal{K}^{3\\nu}_\\nu=[\\mathcal{K}^3]$"
   ]
  },
  {
   "cell_type": "code",
   "execution_count": 18,
   "metadata": {},
   "outputs": [
    {
     "data": {
      "text/html": [
       "<html><script type=\"math/tex; mode=display\">\\newcommand{\\Bold}[1]{\\mathbf{#1}}-\\frac{2 \\, {\\left(c - 2 \\, r\\right)}}{r}</script></html>"
      ],
      "text/plain": [
       "-2*(c - 2*r)/r"
      ]
     },
     "execution_count": 18,
     "metadata": {},
     "output_type": "execute_result"
    }
   ],
   "source": [
    "K_trace=K.trace()\n",
    "K_trace.expr()"
   ]
  },
  {
   "cell_type": "code",
   "execution_count": 19,
   "metadata": {},
   "outputs": [
    {
     "data": {
      "text/html": [
       "<html><script type=\"math/tex; mode=display\">\\newcommand{\\Bold}[1]{\\mathbf{#1}}\\frac{2 \\, {\\left(c^{2} - 2 \\, c r + 2 \\, r^{2}\\right)}}{r^{2}}</script></html>"
      ],
      "text/plain": [
       "2*(c^2 - 2*c*r + 2*r^2)/r^2"
      ]
     },
     "execution_count": 19,
     "metadata": {},
     "output_type": "execute_result"
    }
   ],
   "source": [
    "K2_trace=K2_dd.up(g,0).trace()\n",
    "K2_trace.expr()"
   ]
  },
  {
   "cell_type": "code",
   "execution_count": 20,
   "metadata": {},
   "outputs": [
    {
     "data": {
      "text/html": [
       "<html><script type=\"math/tex; mode=display\">\\newcommand{\\Bold}[1]{\\mathbf{#1}}-\\frac{2 \\, {\\left(c^{3} - 3 \\, c^{2} r + 3 \\, c r^{2} - 2 \\, r^{3}\\right)}}{r^{3}}</script></html>"
      ],
      "text/plain": [
       "-2*(c^3 - 3*c^2*r + 3*c*r^2 - 2*r^3)/r^3"
      ]
     },
     "execution_count": 20,
     "metadata": {},
     "output_type": "execute_result"
    }
   ],
   "source": [
    "K3_trace=K3_dd.up(g,0).trace()\n",
    "K3_trace.expr()"
   ]
  },
  {
   "cell_type": "markdown",
   "metadata": {},
   "source": [
    "Luego, el tensor $X_{\\mu\\nu}$ se puede escribir en términos de $U_2$ y $U_3$ del potencial de la gravedad masiva. Este queda expresado como \n",
    "\n",
    "\\begin{equation}\n",
    "    X_{\\mu\\nu}=\\mathcal{K}_{\\mu\\nu}-[\\mathcal{K}]g_{\\mu\\nu}-\\alpha\\left\\{\\mathcal{K}^2_{\\mu\\nu}-[\\mathcal{K}]\\mathcal{K}_{\\mu\\nu}+\\dfrac{U_2}{2}g_{\\mu\\nu}\\right\\}\n",
    "        +3\\beta\\left\\{\\mathcal{K}^3_{\\mu\\nu}-[\\mathcal{K}]\\mathcal{K}^2_{\\mu\\nu}+\\dfrac{U_2}{2}\\mathcal{K}_{\\mu\\nu}-\\dfrac{U_3}{6}g_{\\mu\\nu}\\right\\}\n",
    "        \\end{equation}"
   ]
  },
  {
   "cell_type": "code",
   "execution_count": 21,
   "metadata": {},
   "outputs": [
    {
     "data": {
      "text/html": [
       "<html><script type=\"math/tex; mode=display\">\\newcommand{\\Bold}[1]{\\mathbf{#1}}\\frac{2 \\, {\\left(c^{2} - 6 \\, c r + 6 \\, r^{2}\\right)}}{r^{2}}</script></html>"
      ],
      "text/plain": [
       "2*(c^2 - 6*c*r + 6*r^2)/r^2"
      ]
     },
     "execution_count": 21,
     "metadata": {},
     "output_type": "execute_result"
    }
   ],
   "source": [
    "U2=K_trace^2-K2_trace\n",
    "U3=K_trace^3-3*K_trace*K2_trace+2*K3_trace\n",
    "U2.expr()"
   ]
  },
  {
   "cell_type": "code",
   "execution_count": 22,
   "metadata": {},
   "outputs": [
    {
     "data": {
      "text/html": [
       "<html><script type=\"math/tex; mode=display\">\\newcommand{\\Bold}[1]{\\mathbf{#1}}\\frac{12 \\, {\\left(c^{2} - 3 \\, c r + 2 \\, r^{2}\\right)}}{r^{2}}</script></html>"
      ],
      "text/plain": [
       "12*(c^2 - 3*c*r + 2*r^2)/r^2"
      ]
     },
     "execution_count": 22,
     "metadata": {},
     "output_type": "execute_result"
    }
   ],
   "source": [
    "U3.expr()"
   ]
  },
  {
   "cell_type": "markdown",
   "metadata": {},
   "source": [
    "# 5. Tensor $X_{\\mu\\nu}$"
   ]
  },
  {
   "cell_type": "markdown",
   "metadata": {},
   "source": [
    "Usando la expresión anterior el tensor de momento energía efectivo queda expresado como"
   ]
  },
  {
   "cell_type": "code",
   "execution_count": 23,
   "metadata": {},
   "outputs": [
    {
     "data": {
      "text/html": [
       "<html><script type=\"math/tex; mode=display\">\\newcommand{\\Bold}[1]{\\mathbf{#1}}\\left(\\begin{array}{rrrr}\n",
       "-\\frac{5 \\, {\\left(2 \\, \\alpha^{2} + {\\left(5 \\, \\alpha + 4\\right)} \\beta + 3 \\, \\beta^{2} + 3 \\, \\alpha + 1\\right)} c m_{g}^{2} r^{4} - 3 \\, {\\left(\\alpha^{2} + 2 \\, {\\left(\\alpha + 1\\right)} \\beta + \\beta^{2} + 2 \\, \\alpha + 1\\right)} m_{g}^{2} r^{5} + 2 \\, {\\left(\\alpha + 3 \\, \\beta\\right)} c^{2} m - {\\left(2 \\, {\\left(6 \\, \\alpha^{2} + 4 \\, {\\left(5 \\, \\alpha + 3\\right)} \\beta + 15 \\, \\beta^{2} + 6 \\, \\alpha + 1\\right)} c^{2} m_{g}^{2} + 3 \\, \\alpha + 3 \\, \\beta + 3\\right)} r^{3} + {\\left(3 \\, {\\left(2 \\, \\alpha^{2} + 3 \\, {\\left(3 \\, \\alpha + 1\\right)} \\beta + 9 \\, \\beta^{2} + \\alpha\\right)} c^{3} m_{g}^{2} + 2 \\, {\\left(2 \\, \\alpha + 3 \\, \\beta + 1\\right)} c + 6 \\, {\\left(\\alpha + \\beta + 1\\right)} m\\right)} r^{2} - {\\left({\\left(\\alpha^{2} + 6 \\, \\alpha \\beta + 9 \\, \\beta^{2}\\right)} c^{4} m_{g}^{2} + {\\left(\\alpha + 3 \\, \\beta\\right)} c^{2} + 4 \\, {\\left(2 \\, \\alpha + 3 \\, \\beta + 1\\right)} c m\\right)} r}{r^{3}} & 0 & 0 & 0 \\\\\n",
       "0 & \\frac{{\\left(\\alpha + 3 \\, \\beta\\right)} c^{2} - 2 \\, {\\left(2 \\, \\alpha + 3 \\, \\beta + 1\\right)} c r + 3 \\, {\\left(\\alpha + \\beta + 1\\right)} r^{2}}{{\\left(2 \\, \\alpha + 3 \\, \\beta + 1\\right)} c m_{g}^{2} r^{3} - {\\left(\\alpha + \\beta + 1\\right)} m_{g}^{2} r^{4} - {\\left({\\left(\\alpha + 3 \\, \\beta\\right)} c^{2} m_{g}^{2} + 1\\right)} r^{2} + 2 \\, m r} & 0 & 0 \\\\\n",
       "0 & 0 & {\\left(2 \\, \\alpha + 3 \\, \\beta + 1\\right)} c r - 3 \\, {\\left(\\alpha + \\beta + 1\\right)} r^{2} & 0 \\\\\n",
       "0 & 0 & 0 & {\\left({\\left(2 \\, \\alpha + 3 \\, \\beta + 1\\right)} c r - 3 \\, {\\left(\\alpha + \\beta + 1\\right)} r^{2}\\right)} \\sin\\left({\\theta}\\right)^{2}\n",
       "\\end{array}\\right)</script></html>"
      ],
      "text/plain": [
       "[-(5*(2*alpha^2 + (5*alpha + 4)*beta + 3*beta^2 + 3*alpha + 1)*c*m_g^2*r^4 - 3*(alpha^2 + 2*(alpha + 1)*beta + beta^2 + 2*alpha + 1)*m_g^2*r^5 + 2*(alpha + 3*beta)*c^2*m - (2*(6*alpha^2 + 4*(5*alpha + 3)*beta + 15*beta^2 + 6*alpha + 1)*c^2*m_g^2 + 3*alpha + 3*beta + 3)*r^3 + (3*(2*alpha^2 + 3*(3*alpha + 1)*beta + 9*beta^2 + alpha)*c^3*m_g^2 + 2*(2*alpha + 3*beta + 1)*c + 6*(alpha + beta + 1)*m)*r^2 - ((alpha^2 + 6*alpha*beta + 9*beta^2)*c^4*m_g^2 + (alpha + 3*beta)*c^2 + 4*(2*alpha + 3*beta + 1)*c*m)*r)/r^3                                                                                                                                                                                                                                                                                                                                                                                                                                                                                                                               0                                                                                                                                                                                                                                                                                                                                                                                                                                                                                                                               0                                                                                                                                                                                                                                                                                                                                                                                                                                                                                                                               0]\n",
       "[                                                                                                                                                                                                                                                                                                                                                                                                                                                                                                                              0                                                                                                                                                                                                                                                                                                                             ((alpha + 3*beta)*c^2 - 2*(2*alpha + 3*beta + 1)*c*r + 3*(alpha + beta + 1)*r^2)/((2*alpha + 3*beta + 1)*c*m_g^2*r^3 - (alpha + beta + 1)*m_g^2*r^4 - ((alpha + 3*beta)*c^2*m_g^2 + 1)*r^2 + 2*m*r)                                                                                                                                                                                                                                                                                                                                                                                                                                                                                                                               0                                                                                                                                                                                                                                                                                                                                                                                                                                                                                                                               0]\n",
       "[                                                                                                                                                                                                                                                                                                                                                                                                                                                                                                                              0                                                                                                                                                                                                                                                                                                                                                                                                                                                                                                                               0                                                                                                                                                                                                                                                                                                                                                                                                                                                                           (2*alpha + 3*beta + 1)*c*r - 3*(alpha + beta + 1)*r^2                                                                                                                                                                                                                                                                                                                                                                                                                                                                                                                               0]\n",
       "[                                                                                                                                                                                                                                                                                                                                                                                                                                                                                                                              0                                                                                                                                                                                                                                                                                                                                                                                                                                                                                                                               0                                                                                                                                                                                                                                                                                                                                                                                                                                                                                                                               0                                                                                                                                                                                                                                                                                                                                                                                                                                                            ((2*alpha + 3*beta + 1)*c*r - 3*(alpha + beta + 1)*r^2)*sin(theta)^2]"
      ]
     },
     "execution_count": 23,
     "metadata": {},
     "output_type": "execute_result"
    }
   ],
   "source": [
    "X=M.tensor_field(0,2,name=\"Efective energy momentum\")\n",
    "X=K_dd-K_trace*g-alpha*(K2_dd-K_trace*K_dd+g*U2/2)+3*beta*(K3_dd-K_trace*K2_dd+(1/2)*U2*K_dd-(1/6)*U3*g)\n",
    "X[:]"
   ]
  },
  {
   "cell_type": "markdown",
   "metadata": {},
   "source": [
    "# 6. Ecuaciones de campo $G_{\\mu\\nu}+m_g^2X_{\\mu\\nu}=0$"
   ]
  },
  {
   "cell_type": "markdown",
   "metadata": {},
   "source": [
    "Tras obtener el tensor de Einstein, $G_{\\mu\\nu}$, y el tensor momento energía efectivo de la teoría de gravedad masiva dRGT, $X_{\\mu\\nu}$, al sumarlos deberíamos obtener un tensor lleno de ceros, es decir,"
   ]
  },
  {
   "cell_type": "code",
   "execution_count": 24,
   "metadata": {},
   "outputs": [
    {
     "data": {
      "text/html": [
       "<html><script type=\"math/tex; mode=display\">\\newcommand{\\Bold}[1]{\\mathbf{#1}}\\left(\\begin{array}{rrrr}\n",
       "0 & 0 & 0 & 0 \\\\\n",
       "0 & 0 & 0 & 0 \\\\\n",
       "0 & 0 & 0 & 0 \\\\\n",
       "0 & 0 & 0 & 0\n",
       "\\end{array}\\right)</script></html>"
      ],
      "text/plain": [
       "[0 0 0 0]\n",
       "[0 0 0 0]\n",
       "[0 0 0 0]\n",
       "[0 0 0 0]"
      ]
     },
     "execution_count": 24,
     "metadata": {},
     "output_type": "execute_result"
    }
   ],
   "source": [
    "E=G+m_g^2*X\n",
    "E[:]"
   ]
  },
  {
   "cell_type": "markdown",
   "metadata": {},
   "source": [
    "Luego, el elemento de línea \n",
    "\n",
    "\\begin{equation}\n",
    "    ds^2=-F(r)dt^2+\\dfrac{1}{F(r)}dr^2+r^2d\\Omega^2.\n",
    "\\end{equation}\n",
    "\n",
    "con \n",
    "\n",
    "\\begin{equation}\n",
    "    F(r)=1-\\dfrac{2m}{r}+\\dfrac{\\Lambda}{3}r^2+\\gamma r+\\zeta,\n",
    "\\end{equation}\n",
    "\n",
    "Es solución a la ecuaciónes de campo de la teoría."
   ]
  },
  {
   "cell_type": "markdown",
   "metadata": {},
   "source": [
    "# 7. Singularidad"
   ]
  },
  {
   "cell_type": "markdown",
   "metadata": {},
   "source": [
    "## 7.1 Tensor de Riemann $R_{\\mu\\nu\\sigma\\rho}$"
   ]
  },
  {
   "cell_type": "markdown",
   "metadata": {},
   "source": [
    "Una vez se comprueba la solución, vale la pena revisar algunas propiedades de la métrica, como por ejemplo la singularidad que esta pueda presentar, esto através del escalar de Kretschmann, ell cual está definido como sigue\n",
    "\n",
    "\\begin{equation}\n",
    "    K=R_{\\mu\\nu\\alpha\\rho}R^{\\mu\\nu\\sigma\\rho},\n",
    "\\end{equation}\n",
    "\n",
    "donde $R_{\\mu\\nu\\sigma\\rho}$ es el tensor de Riemann."
   ]
  },
  {
   "cell_type": "markdown",
   "metadata": {},
   "source": [
    "El tensor de Riemann se calcula usando el método ```.rieman()``` de la métrica, obteniendo el siguiente resultado."
   ]
  },
  {
   "cell_type": "code",
   "execution_count": 25,
   "metadata": {},
   "outputs": [
    {
     "data": {
      "text/html": [
       "<html><script type=\"math/tex; mode=display\">\\newcommand{\\Bold}[1]{\\mathbf{#1}}\\left[\\left[\\left[\\left[0, 0, 0, 0\\right], \\left[0, 0, 0, 0\\right], \\left[0, 0, 0, 0\\right], \\left[0, 0, 0, 0\\right]\\right], \\left[\\left[0, \\frac{{\\left(\\alpha + \\beta + 1\\right)} m_{g}^{2} r^{3} - 2 \\, m}{{\\left(2 \\, \\alpha + 3 \\, \\beta + 1\\right)} c m_{g}^{2} r^{4} - {\\left(\\alpha + \\beta + 1\\right)} m_{g}^{2} r^{5} - {\\left({\\left(\\alpha + 3 \\, \\beta\\right)} c^{2} m_{g}^{2} + 1\\right)} r^{3} + 2 \\, m r^{2}}, 0, 0\\right], \\left[-\\frac{{\\left(\\alpha + \\beta + 1\\right)} m_{g}^{2} r^{3} - 2 \\, m}{{\\left(2 \\, \\alpha + 3 \\, \\beta + 1\\right)} c m_{g}^{2} r^{4} - {\\left(\\alpha + \\beta + 1\\right)} m_{g}^{2} r^{5} - {\\left({\\left(\\alpha + 3 \\, \\beta\\right)} c^{2} m_{g}^{2} + 1\\right)} r^{3} + 2 \\, m r^{2}}, 0, 0, 0\\right], \\left[0, 0, 0, 0\\right], \\left[0, 0, 0, 0\\right]\\right], \\left[\\left[0, 0, \\frac{{\\left(2 \\, \\alpha + 3 \\, \\beta + 1\\right)} c m_{g}^{2} r^{2} - 2 \\, {\\left(\\alpha + \\beta + 1\\right)} m_{g}^{2} r^{3} - 2 \\, m}{2 \\, r}, 0\\right], \\left[0, 0, 0, 0\\right], \\left[-\\frac{{\\left(2 \\, \\alpha + 3 \\, \\beta + 1\\right)} c m_{g}^{2} r^{2} - 2 \\, {\\left(\\alpha + \\beta + 1\\right)} m_{g}^{2} r^{3} - 2 \\, m}{2 \\, r}, 0, 0, 0\\right], \\left[0, 0, 0, 0\\right]\\right], \\left[\\left[0, 0, 0, \\frac{{\\left({\\left(2 \\, \\alpha + 3 \\, \\beta + 1\\right)} c m_{g}^{2} r^{2} - 2 \\, {\\left(\\alpha + \\beta + 1\\right)} m_{g}^{2} r^{3} - 2 \\, m\\right)} \\sin\\left({\\theta}\\right)^{2}}{2 \\, r}\\right], \\left[0, 0, 0, 0\\right], \\left[0, 0, 0, 0\\right], \\left[-\\frac{{\\left({\\left(2 \\, \\alpha + 3 \\, \\beta + 1\\right)} c m_{g}^{2} r^{2} - 2 \\, {\\left(\\alpha + \\beta + 1\\right)} m_{g}^{2} r^{3} - 2 \\, m\\right)} \\sin\\left({\\theta}\\right)^{2}}{2 \\, r}, 0, 0, 0\\right]\\right]\\right], \\left[\\left[\\left[0, \\frac{{\\left(2 \\, \\alpha^{2} + {\\left(5 \\, \\alpha + 4\\right)} \\beta + 3 \\, \\beta^{2} + 3 \\, \\alpha + 1\\right)} c m_{g}^{4} r^{5} - {\\left(\\alpha^{2} + 2 \\, {\\left(\\alpha + 1\\right)} \\beta + \\beta^{2} + 2 \\, \\alpha + 1\\right)} m_{g}^{4} r^{6} - 2 \\, {\\left(2 \\, \\alpha + 3 \\, \\beta + 1\\right)} c m m_{g}^{2} r^{2} + 4 \\, {\\left(\\alpha + \\beta + 1\\right)} m m_{g}^{2} r^{3} - {\\left({\\left(\\alpha^{2} + {\\left(4 \\, \\alpha + 3\\right)} \\beta + 3 \\, \\beta^{2} + \\alpha\\right)} c^{2} m_{g}^{4} + {\\left(\\alpha + \\beta + 1\\right)} m_{g}^{2}\\right)} r^{4} - 4 \\, m^{2} + 2 \\, {\\left({\\left(\\alpha + 3 \\, \\beta\\right)} c^{2} m m_{g}^{2} + m\\right)} r}{r^{4}}, 0, 0\\right], \\left[-\\frac{{\\left(2 \\, \\alpha^{2} + {\\left(5 \\, \\alpha + 4\\right)} \\beta + 3 \\, \\beta^{2} + 3 \\, \\alpha + 1\\right)} c m_{g}^{4} r^{5} - {\\left(\\alpha^{2} + 2 \\, {\\left(\\alpha + 1\\right)} \\beta + \\beta^{2} + 2 \\, \\alpha + 1\\right)} m_{g}^{4} r^{6} - 2 \\, {\\left(2 \\, \\alpha + 3 \\, \\beta + 1\\right)} c m m_{g}^{2} r^{2} + 4 \\, {\\left(\\alpha + \\beta + 1\\right)} m m_{g}^{2} r^{3} - {\\left({\\left(\\alpha^{2} + {\\left(4 \\, \\alpha + 3\\right)} \\beta + 3 \\, \\beta^{2} + \\alpha\\right)} c^{2} m_{g}^{4} + {\\left(\\alpha + \\beta + 1\\right)} m_{g}^{2}\\right)} r^{4} - 4 \\, m^{2} + 2 \\, {\\left({\\left(\\alpha + 3 \\, \\beta\\right)} c^{2} m m_{g}^{2} + m\\right)} r}{r^{4}}, 0, 0, 0\\right], \\left[0, 0, 0, 0\\right], \\left[0, 0, 0, 0\\right]\\right], \\left[\\left[0, 0, 0, 0\\right], \\left[0, 0, 0, 0\\right], \\left[0, 0, 0, 0\\right], \\left[0, 0, 0, 0\\right]\\right], \\left[\\left[0, 0, 0, 0\\right], \\left[0, 0, \\frac{{\\left(2 \\, \\alpha + 3 \\, \\beta + 1\\right)} c m_{g}^{2} r^{2} - 2 \\, {\\left(\\alpha + \\beta + 1\\right)} m_{g}^{2} r^{3} - 2 \\, m}{2 \\, r}, 0\\right], \\left[0, -\\frac{{\\left(2 \\, \\alpha + 3 \\, \\beta + 1\\right)} c m_{g}^{2} r^{2} - 2 \\, {\\left(\\alpha + \\beta + 1\\right)} m_{g}^{2} r^{3} - 2 \\, m}{2 \\, r}, 0, 0\\right], \\left[0, 0, 0, 0\\right]\\right], \\left[\\left[0, 0, 0, 0\\right], \\left[0, 0, 0, \\frac{{\\left({\\left(2 \\, \\alpha + 3 \\, \\beta + 1\\right)} c m_{g}^{2} r^{2} - 2 \\, {\\left(\\alpha + \\beta + 1\\right)} m_{g}^{2} r^{3} - 2 \\, m\\right)} \\sin\\left({\\theta}\\right)^{2}}{2 \\, r}\\right], \\left[0, 0, 0, 0\\right], \\left[0, -\\frac{{\\left({\\left(2 \\, \\alpha + 3 \\, \\beta + 1\\right)} c m_{g}^{2} r^{2} - 2 \\, {\\left(\\alpha + \\beta + 1\\right)} m_{g}^{2} r^{3} - 2 \\, m\\right)} \\sin\\left({\\theta}\\right)^{2}}{2 \\, r}, 0, 0\\right]\\right]\\right], \\left[\\left[\\left[0, 0, \\frac{3 \\, {\\left(2 \\, \\alpha^{2} + {\\left(5 \\, \\alpha + 4\\right)} \\beta + 3 \\, \\beta^{2} + 3 \\, \\alpha + 1\\right)} c m_{g}^{4} r^{5} - 2 \\, {\\left(\\alpha^{2} + 2 \\, {\\left(\\alpha + 1\\right)} \\beta + \\beta^{2} + 2 \\, \\alpha + 1\\right)} m_{g}^{4} r^{6} - {\\left({\\left(6 \\, \\alpha^{2} + 4 \\, {\\left(5 \\, \\alpha + 3\\right)} \\beta + 15 \\, \\beta^{2} + 6 \\, \\alpha + 1\\right)} c^{2} m_{g}^{4} + 2 \\, {\\left(\\alpha + \\beta + 1\\right)} m_{g}^{2}\\right)} r^{4} + {\\left({\\left(2 \\, \\alpha^{2} + 3 \\, {\\left(3 \\, \\alpha + 1\\right)} \\beta + 9 \\, \\beta^{2} + \\alpha\\right)} c^{3} m_{g}^{4} + {\\left({\\left(2 \\, \\alpha + 3 \\, \\beta + 1\\right)} c + 2 \\, {\\left(\\alpha + \\beta + 1\\right)} m\\right)} m_{g}^{2}\\right)} r^{3} + 4 \\, m^{2} - 2 \\, {\\left({\\left(\\alpha + 3 \\, \\beta\\right)} c^{2} m m_{g}^{2} + m\\right)} r}{2 \\, r^{4}}, 0\\right], \\left[0, 0, 0, 0\\right], \\left[-\\frac{3 \\, {\\left(2 \\, \\alpha^{2} + {\\left(5 \\, \\alpha + 4\\right)} \\beta + 3 \\, \\beta^{2} + 3 \\, \\alpha + 1\\right)} c m_{g}^{4} r^{5} - 2 \\, {\\left(\\alpha^{2} + 2 \\, {\\left(\\alpha + 1\\right)} \\beta + \\beta^{2} + 2 \\, \\alpha + 1\\right)} m_{g}^{4} r^{6} - {\\left({\\left(6 \\, \\alpha^{2} + 4 \\, {\\left(5 \\, \\alpha + 3\\right)} \\beta + 15 \\, \\beta^{2} + 6 \\, \\alpha + 1\\right)} c^{2} m_{g}^{4} + 2 \\, {\\left(\\alpha + \\beta + 1\\right)} m_{g}^{2}\\right)} r^{4} + {\\left({\\left(2 \\, \\alpha^{2} + 3 \\, {\\left(3 \\, \\alpha + 1\\right)} \\beta + 9 \\, \\beta^{2} + \\alpha\\right)} c^{3} m_{g}^{4} + {\\left({\\left(2 \\, \\alpha + 3 \\, \\beta + 1\\right)} c + 2 \\, {\\left(\\alpha + \\beta + 1\\right)} m\\right)} m_{g}^{2}\\right)} r^{3} + 4 \\, m^{2} - 2 \\, {\\left({\\left(\\alpha + 3 \\, \\beta\\right)} c^{2} m m_{g}^{2} + m\\right)} r}{2 \\, r^{4}}, 0, 0, 0\\right], \\left[0, 0, 0, 0\\right]\\right], \\left[\\left[0, 0, 0, 0\\right], \\left[0, 0, \\frac{{\\left(2 \\, \\alpha + 3 \\, \\beta + 1\\right)} c m_{g}^{2} r^{2} - 2 \\, {\\left(\\alpha + \\beta + 1\\right)} m_{g}^{2} r^{3} - 2 \\, m}{2 \\, {\\left({\\left(2 \\, \\alpha + 3 \\, \\beta + 1\\right)} c m_{g}^{2} r^{4} - {\\left(\\alpha + \\beta + 1\\right)} m_{g}^{2} r^{5} - {\\left({\\left(\\alpha + 3 \\, \\beta\\right)} c^{2} m_{g}^{2} + 1\\right)} r^{3} + 2 \\, m r^{2}\\right)}}, 0\\right], \\left[0, -\\frac{{\\left(2 \\, \\alpha + 3 \\, \\beta + 1\\right)} c m_{g}^{2} r^{2} - 2 \\, {\\left(\\alpha + \\beta + 1\\right)} m_{g}^{2} r^{3} - 2 \\, m}{2 \\, {\\left({\\left(2 \\, \\alpha + 3 \\, \\beta + 1\\right)} c m_{g}^{2} r^{4} - {\\left(\\alpha + \\beta + 1\\right)} m_{g}^{2} r^{5} - {\\left({\\left(\\alpha + 3 \\, \\beta\\right)} c^{2} m_{g}^{2} + 1\\right)} r^{3} + 2 \\, m r^{2}\\right)}}, 0, 0\\right], \\left[0, 0, 0, 0\\right]\\right], \\left[\\left[0, 0, 0, 0\\right], \\left[0, 0, 0, 0\\right], \\left[0, 0, 0, 0\\right], \\left[0, 0, 0, 0\\right]\\right], \\left[\\left[0, 0, 0, 0\\right], \\left[0, 0, 0, 0\\right], \\left[0, 0, 0, -\\frac{{\\left({\\left(\\alpha + 3 \\, \\beta\\right)} c^{2} m_{g}^{2} r - {\\left(2 \\, \\alpha + 3 \\, \\beta + 1\\right)} c m_{g}^{2} r^{2} + {\\left(\\alpha + \\beta + 1\\right)} m_{g}^{2} r^{3} - 2 \\, m\\right)} \\sin\\left({\\theta}\\right)^{2}}{r}\\right], \\left[0, 0, \\frac{{\\left({\\left(\\alpha + 3 \\, \\beta\\right)} c^{2} m_{g}^{2} r - {\\left(2 \\, \\alpha + 3 \\, \\beta + 1\\right)} c m_{g}^{2} r^{2} + {\\left(\\alpha + \\beta + 1\\right)} m_{g}^{2} r^{3} - 2 \\, m\\right)} \\sin\\left({\\theta}\\right)^{2}}{r}, 0\\right]\\right]\\right], \\left[\\left[\\left[0, 0, 0, \\frac{3 \\, {\\left(2 \\, \\alpha^{2} + {\\left(5 \\, \\alpha + 4\\right)} \\beta + 3 \\, \\beta^{2} + 3 \\, \\alpha + 1\\right)} c m_{g}^{4} r^{5} - 2 \\, {\\left(\\alpha^{2} + 2 \\, {\\left(\\alpha + 1\\right)} \\beta + \\beta^{2} + 2 \\, \\alpha + 1\\right)} m_{g}^{4} r^{6} - {\\left({\\left(6 \\, \\alpha^{2} + 4 \\, {\\left(5 \\, \\alpha + 3\\right)} \\beta + 15 \\, \\beta^{2} + 6 \\, \\alpha + 1\\right)} c^{2} m_{g}^{4} + 2 \\, {\\left(\\alpha + \\beta + 1\\right)} m_{g}^{2}\\right)} r^{4} + {\\left({\\left(2 \\, \\alpha^{2} + 3 \\, {\\left(3 \\, \\alpha + 1\\right)} \\beta + 9 \\, \\beta^{2} + \\alpha\\right)} c^{3} m_{g}^{4} + {\\left({\\left(2 \\, \\alpha + 3 \\, \\beta + 1\\right)} c + 2 \\, {\\left(\\alpha + \\beta + 1\\right)} m\\right)} m_{g}^{2}\\right)} r^{3} + 4 \\, m^{2} - 2 \\, {\\left({\\left(\\alpha + 3 \\, \\beta\\right)} c^{2} m m_{g}^{2} + m\\right)} r}{2 \\, r^{4}}\\right], \\left[0, 0, 0, 0\\right], \\left[0, 0, 0, 0\\right], \\left[-\\frac{3 \\, {\\left(2 \\, \\alpha^{2} + {\\left(5 \\, \\alpha + 4\\right)} \\beta + 3 \\, \\beta^{2} + 3 \\, \\alpha + 1\\right)} c m_{g}^{4} r^{5} - 2 \\, {\\left(\\alpha^{2} + 2 \\, {\\left(\\alpha + 1\\right)} \\beta + \\beta^{2} + 2 \\, \\alpha + 1\\right)} m_{g}^{4} r^{6} - {\\left({\\left(6 \\, \\alpha^{2} + 4 \\, {\\left(5 \\, \\alpha + 3\\right)} \\beta + 15 \\, \\beta^{2} + 6 \\, \\alpha + 1\\right)} c^{2} m_{g}^{4} + 2 \\, {\\left(\\alpha + \\beta + 1\\right)} m_{g}^{2}\\right)} r^{4} + {\\left({\\left(2 \\, \\alpha^{2} + 3 \\, {\\left(3 \\, \\alpha + 1\\right)} \\beta + 9 \\, \\beta^{2} + \\alpha\\right)} c^{3} m_{g}^{4} + {\\left({\\left(2 \\, \\alpha + 3 \\, \\beta + 1\\right)} c + 2 \\, {\\left(\\alpha + \\beta + 1\\right)} m\\right)} m_{g}^{2}\\right)} r^{3} + 4 \\, m^{2} - 2 \\, {\\left({\\left(\\alpha + 3 \\, \\beta\\right)} c^{2} m m_{g}^{2} + m\\right)} r}{2 \\, r^{4}}, 0, 0, 0\\right]\\right], \\left[\\left[0, 0, 0, 0\\right], \\left[0, 0, 0, \\frac{{\\left(2 \\, \\alpha + 3 \\, \\beta + 1\\right)} c m_{g}^{2} r^{2} - 2 \\, {\\left(\\alpha + \\beta + 1\\right)} m_{g}^{2} r^{3} - 2 \\, m}{2 \\, {\\left({\\left(2 \\, \\alpha + 3 \\, \\beta + 1\\right)} c m_{g}^{2} r^{4} - {\\left(\\alpha + \\beta + 1\\right)} m_{g}^{2} r^{5} - {\\left({\\left(\\alpha + 3 \\, \\beta\\right)} c^{2} m_{g}^{2} + 1\\right)} r^{3} + 2 \\, m r^{2}\\right)}}\\right], \\left[0, 0, 0, 0\\right], \\left[0, -\\frac{{\\left(2 \\, \\alpha + 3 \\, \\beta + 1\\right)} c m_{g}^{2} r^{2} - 2 \\, {\\left(\\alpha + \\beta + 1\\right)} m_{g}^{2} r^{3} - 2 \\, m}{2 \\, {\\left({\\left(2 \\, \\alpha + 3 \\, \\beta + 1\\right)} c m_{g}^{2} r^{4} - {\\left(\\alpha + \\beta + 1\\right)} m_{g}^{2} r^{5} - {\\left({\\left(\\alpha + 3 \\, \\beta\\right)} c^{2} m_{g}^{2} + 1\\right)} r^{3} + 2 \\, m r^{2}\\right)}}, 0, 0\\right]\\right], \\left[\\left[0, 0, 0, 0\\right], \\left[0, 0, 0, 0\\right], \\left[0, 0, 0, \\frac{{\\left(\\alpha + 3 \\, \\beta\\right)} c^{2} m_{g}^{2} r - {\\left(2 \\, \\alpha + 3 \\, \\beta + 1\\right)} c m_{g}^{2} r^{2} + {\\left(\\alpha + \\beta + 1\\right)} m_{g}^{2} r^{3} - 2 \\, m}{r}\\right], \\left[0, 0, -\\frac{{\\left(\\alpha + 3 \\, \\beta\\right)} c^{2} m_{g}^{2} r - {\\left(2 \\, \\alpha + 3 \\, \\beta + 1\\right)} c m_{g}^{2} r^{2} + {\\left(\\alpha + \\beta + 1\\right)} m_{g}^{2} r^{3} - 2 \\, m}{r}, 0\\right]\\right], \\left[\\left[0, 0, 0, 0\\right], \\left[0, 0, 0, 0\\right], \\left[0, 0, 0, 0\\right], \\left[0, 0, 0, 0\\right]\\right]\\right]\\right]</script></html>"
      ],
      "text/plain": [
       "[[[[0, 0, 0, 0], [0, 0, 0, 0], [0, 0, 0, 0], [0, 0, 0, 0]],\n",
       "  [[0,\n",
       "    ((alpha + beta + 1)*m_g^2*r^3 - 2*m)/((2*alpha + 3*beta + 1)*c*m_g^2*r^4 - (alpha + beta + 1)*m_g^2*r^5 - ((alpha + 3*beta)*c^2*m_g^2 + 1)*r^3 + 2*m*r^2),\n",
       "    0,\n",
       "    0],\n",
       "   [-((alpha + beta + 1)*m_g^2*r^3 - 2*m)/((2*alpha + 3*beta + 1)*c*m_g^2*r^4 - (alpha + beta + 1)*m_g^2*r^5 - ((alpha + 3*beta)*c^2*m_g^2 + 1)*r^3 + 2*m*r^2),\n",
       "    0,\n",
       "    0,\n",
       "    0],\n",
       "   [0, 0, 0, 0],\n",
       "   [0, 0, 0, 0]],\n",
       "  [[0,\n",
       "    0,\n",
       "    1/2*((2*alpha + 3*beta + 1)*c*m_g^2*r^2 - 2*(alpha + beta + 1)*m_g^2*r^3 - 2*m)/r,\n",
       "    0],\n",
       "   [0, 0, 0, 0],\n",
       "   [-1/2*((2*alpha + 3*beta + 1)*c*m_g^2*r^2 - 2*(alpha + beta + 1)*m_g^2*r^3 - 2*m)/r,\n",
       "    0,\n",
       "    0,\n",
       "    0],\n",
       "   [0, 0, 0, 0]],\n",
       "  [[0,\n",
       "    0,\n",
       "    0,\n",
       "    1/2*((2*alpha + 3*beta + 1)*c*m_g^2*r^2 - 2*(alpha + beta + 1)*m_g^2*r^3 - 2*m)*sin(theta)^2/r],\n",
       "   [0, 0, 0, 0],\n",
       "   [0, 0, 0, 0],\n",
       "   [-1/2*((2*alpha + 3*beta + 1)*c*m_g^2*r^2 - 2*(alpha + beta + 1)*m_g^2*r^3 - 2*m)*sin(theta)^2/r,\n",
       "    0,\n",
       "    0,\n",
       "    0]]],\n",
       " [[[0,\n",
       "    ((2*alpha^2 + (5*alpha + 4)*beta + 3*beta^2 + 3*alpha + 1)*c*m_g^4*r^5 - (alpha^2 + 2*(alpha + 1)*beta + beta^2 + 2*alpha + 1)*m_g^4*r^6 - 2*(2*alpha + 3*beta + 1)*c*m*m_g^2*r^2 + 4*(alpha + beta + 1)*m*m_g^2*r^3 - ((alpha^2 + (4*alpha + 3)*beta + 3*beta^2 + alpha)*c^2*m_g^4 + (alpha + beta + 1)*m_g^2)*r^4 - 4*m^2 + 2*((alpha + 3*beta)*c^2*m*m_g^2 + m)*r)/r^4,\n",
       "    0,\n",
       "    0],\n",
       "   [-((2*alpha^2 + (5*alpha + 4)*beta + 3*beta^2 + 3*alpha + 1)*c*m_g^4*r^5 - (alpha^2 + 2*(alpha + 1)*beta + beta^2 + 2*alpha + 1)*m_g^4*r^6 - 2*(2*alpha + 3*beta + 1)*c*m*m_g^2*r^2 + 4*(alpha + beta + 1)*m*m_g^2*r^3 - ((alpha^2 + (4*alpha + 3)*beta + 3*beta^2 + alpha)*c^2*m_g^4 + (alpha + beta + 1)*m_g^2)*r^4 - 4*m^2 + 2*((alpha + 3*beta)*c^2*m*m_g^2 + m)*r)/r^4,\n",
       "    0,\n",
       "    0,\n",
       "    0],\n",
       "   [0, 0, 0, 0],\n",
       "   [0, 0, 0, 0]],\n",
       "  [[0, 0, 0, 0], [0, 0, 0, 0], [0, 0, 0, 0], [0, 0, 0, 0]],\n",
       "  [[0, 0, 0, 0],\n",
       "   [0,\n",
       "    0,\n",
       "    1/2*((2*alpha + 3*beta + 1)*c*m_g^2*r^2 - 2*(alpha + beta + 1)*m_g^2*r^3 - 2*m)/r,\n",
       "    0],\n",
       "   [0,\n",
       "    -1/2*((2*alpha + 3*beta + 1)*c*m_g^2*r^2 - 2*(alpha + beta + 1)*m_g^2*r^3 - 2*m)/r,\n",
       "    0,\n",
       "    0],\n",
       "   [0, 0, 0, 0]],\n",
       "  [[0, 0, 0, 0],\n",
       "   [0,\n",
       "    0,\n",
       "    0,\n",
       "    1/2*((2*alpha + 3*beta + 1)*c*m_g^2*r^2 - 2*(alpha + beta + 1)*m_g^2*r^3 - 2*m)*sin(theta)^2/r],\n",
       "   [0, 0, 0, 0],\n",
       "   [0,\n",
       "    -1/2*((2*alpha + 3*beta + 1)*c*m_g^2*r^2 - 2*(alpha + beta + 1)*m_g^2*r^3 - 2*m)*sin(theta)^2/r,\n",
       "    0,\n",
       "    0]]],\n",
       " [[[0,\n",
       "    0,\n",
       "    1/2*(3*(2*alpha^2 + (5*alpha + 4)*beta + 3*beta^2 + 3*alpha + 1)*c*m_g^4*r^5 - 2*(alpha^2 + 2*(alpha + 1)*beta + beta^2 + 2*alpha + 1)*m_g^4*r^6 - ((6*alpha^2 + 4*(5*alpha + 3)*beta + 15*beta^2 + 6*alpha + 1)*c^2*m_g^4 + 2*(alpha + beta + 1)*m_g^2)*r^4 + ((2*alpha^2 + 3*(3*alpha + 1)*beta + 9*beta^2 + alpha)*c^3*m_g^4 + ((2*alpha + 3*beta + 1)*c + 2*(alpha + beta + 1)*m)*m_g^2)*r^3 + 4*m^2 - 2*((alpha + 3*beta)*c^2*m*m_g^2 + m)*r)/r^4,\n",
       "    0],\n",
       "   [0, 0, 0, 0],\n",
       "   [-1/2*(3*(2*alpha^2 + (5*alpha + 4)*beta + 3*beta^2 + 3*alpha + 1)*c*m_g^4*r^5 - 2*(alpha^2 + 2*(alpha + 1)*beta + beta^2 + 2*alpha + 1)*m_g^4*r^6 - ((6*alpha^2 + 4*(5*alpha + 3)*beta + 15*beta^2 + 6*alpha + 1)*c^2*m_g^4 + 2*(alpha + beta + 1)*m_g^2)*r^4 + ((2*alpha^2 + 3*(3*alpha + 1)*beta + 9*beta^2 + alpha)*c^3*m_g^4 + ((2*alpha + 3*beta + 1)*c + 2*(alpha + beta + 1)*m)*m_g^2)*r^3 + 4*m^2 - 2*((alpha + 3*beta)*c^2*m*m_g^2 + m)*r)/r^4,\n",
       "    0,\n",
       "    0,\n",
       "    0],\n",
       "   [0, 0, 0, 0]],\n",
       "  [[0, 0, 0, 0],\n",
       "   [0,\n",
       "    0,\n",
       "    1/2*((2*alpha + 3*beta + 1)*c*m_g^2*r^2 - 2*(alpha + beta + 1)*m_g^2*r^3 - 2*m)/((2*alpha + 3*beta + 1)*c*m_g^2*r^4 - (alpha + beta + 1)*m_g^2*r^5 - ((alpha + 3*beta)*c^2*m_g^2 + 1)*r^3 + 2*m*r^2),\n",
       "    0],\n",
       "   [0,\n",
       "    -1/2*((2*alpha + 3*beta + 1)*c*m_g^2*r^2 - 2*(alpha + beta + 1)*m_g^2*r^3 - 2*m)/((2*alpha + 3*beta + 1)*c*m_g^2*r^4 - (alpha + beta + 1)*m_g^2*r^5 - ((alpha + 3*beta)*c^2*m_g^2 + 1)*r^3 + 2*m*r^2),\n",
       "    0,\n",
       "    0],\n",
       "   [0, 0, 0, 0]],\n",
       "  [[0, 0, 0, 0], [0, 0, 0, 0], [0, 0, 0, 0], [0, 0, 0, 0]],\n",
       "  [[0, 0, 0, 0],\n",
       "   [0, 0, 0, 0],\n",
       "   [0,\n",
       "    0,\n",
       "    0,\n",
       "    -((alpha + 3*beta)*c^2*m_g^2*r - (2*alpha + 3*beta + 1)*c*m_g^2*r^2 + (alpha + beta + 1)*m_g^2*r^3 - 2*m)*sin(theta)^2/r],\n",
       "   [0,\n",
       "    0,\n",
       "    ((alpha + 3*beta)*c^2*m_g^2*r - (2*alpha + 3*beta + 1)*c*m_g^2*r^2 + (alpha + beta + 1)*m_g^2*r^3 - 2*m)*sin(theta)^2/r,\n",
       "    0]]],\n",
       " [[[0,\n",
       "    0,\n",
       "    0,\n",
       "    1/2*(3*(2*alpha^2 + (5*alpha + 4)*beta + 3*beta^2 + 3*alpha + 1)*c*m_g^4*r^5 - 2*(alpha^2 + 2*(alpha + 1)*beta + beta^2 + 2*alpha + 1)*m_g^4*r^6 - ((6*alpha^2 + 4*(5*alpha + 3)*beta + 15*beta^2 + 6*alpha + 1)*c^2*m_g^4 + 2*(alpha + beta + 1)*m_g^2)*r^4 + ((2*alpha^2 + 3*(3*alpha + 1)*beta + 9*beta^2 + alpha)*c^3*m_g^4 + ((2*alpha + 3*beta + 1)*c + 2*(alpha + beta + 1)*m)*m_g^2)*r^3 + 4*m^2 - 2*((alpha + 3*beta)*c^2*m*m_g^2 + m)*r)/r^4],\n",
       "   [0, 0, 0, 0],\n",
       "   [0, 0, 0, 0],\n",
       "   [-1/2*(3*(2*alpha^2 + (5*alpha + 4)*beta + 3*beta^2 + 3*alpha + 1)*c*m_g^4*r^5 - 2*(alpha^2 + 2*(alpha + 1)*beta + beta^2 + 2*alpha + 1)*m_g^4*r^6 - ((6*alpha^2 + 4*(5*alpha + 3)*beta + 15*beta^2 + 6*alpha + 1)*c^2*m_g^4 + 2*(alpha + beta + 1)*m_g^2)*r^4 + ((2*alpha^2 + 3*(3*alpha + 1)*beta + 9*beta^2 + alpha)*c^3*m_g^4 + ((2*alpha + 3*beta + 1)*c + 2*(alpha + beta + 1)*m)*m_g^2)*r^3 + 4*m^2 - 2*((alpha + 3*beta)*c^2*m*m_g^2 + m)*r)/r^4,\n",
       "    0,\n",
       "    0,\n",
       "    0]],\n",
       "  [[0, 0, 0, 0],\n",
       "   [0,\n",
       "    0,\n",
       "    0,\n",
       "    1/2*((2*alpha + 3*beta + 1)*c*m_g^2*r^2 - 2*(alpha + beta + 1)*m_g^2*r^3 - 2*m)/((2*alpha + 3*beta + 1)*c*m_g^2*r^4 - (alpha + beta + 1)*m_g^2*r^5 - ((alpha + 3*beta)*c^2*m_g^2 + 1)*r^3 + 2*m*r^2)],\n",
       "   [0, 0, 0, 0],\n",
       "   [0,\n",
       "    -1/2*((2*alpha + 3*beta + 1)*c*m_g^2*r^2 - 2*(alpha + beta + 1)*m_g^2*r^3 - 2*m)/((2*alpha + 3*beta + 1)*c*m_g^2*r^4 - (alpha + beta + 1)*m_g^2*r^5 - ((alpha + 3*beta)*c^2*m_g^2 + 1)*r^3 + 2*m*r^2),\n",
       "    0,\n",
       "    0]],\n",
       "  [[0, 0, 0, 0],\n",
       "   [0, 0, 0, 0],\n",
       "   [0,\n",
       "    0,\n",
       "    0,\n",
       "    ((alpha + 3*beta)*c^2*m_g^2*r - (2*alpha + 3*beta + 1)*c*m_g^2*r^2 + (alpha + beta + 1)*m_g^2*r^3 - 2*m)/r],\n",
       "   [0,\n",
       "    0,\n",
       "    -((alpha + 3*beta)*c^2*m_g^2*r - (2*alpha + 3*beta + 1)*c*m_g^2*r^2 + (alpha + beta + 1)*m_g^2*r^3 - 2*m)/r,\n",
       "    0]],\n",
       "  [[0, 0, 0, 0], [0, 0, 0, 0], [0, 0, 0, 0], [0, 0, 0, 0]]]]"
      ]
     },
     "execution_count": 25,
     "metadata": {},
     "output_type": "execute_result"
    }
   ],
   "source": [
    "R=g.riemann()\n",
    "R[:]"
   ]
  },
  {
   "cell_type": "markdown",
   "metadata": {},
   "source": [
    "## 7.1 Escalar de Kretschmann"
   ]
  },
  {
   "cell_type": "markdown",
   "metadata": {},
   "source": [
    "Para calcular el mensaje de Kretschmann se usó la contracción de los tensores de Riemann, el cual se puede calcular usando los métodos ```R.down(g)['_{abcd}']*R.up(g)['^{abcd}']```, luego se muestra el resultado con el método ```.expr()```. De esta forma el escalar de Kretschmann queda como"
   ]
  },
  {
   "cell_type": "code",
   "execution_count": 26,
   "metadata": {},
   "outputs": [
    {
     "data": {
      "text/html": [
       "<html><script type=\"math/tex; mode=display\">\\newcommand{\\Bold}[1]{\\mathbf{#1}}\\frac{4 \\, {\\left({\\left(\\alpha^{2} + 6 \\, \\alpha \\beta + 9 \\, \\beta^{2}\\right)} c^{4} m_{g}^{4} r^{2} - 2 \\, {\\left(2 \\, \\alpha^{2} + 3 \\, {\\left(3 \\, \\alpha + 1\\right)} \\beta + 9 \\, \\beta^{2} + \\alpha\\right)} c^{3} m_{g}^{4} r^{3} + 2 \\, {\\left(5 \\, \\alpha^{2} + {\\left(16 \\, \\alpha + 9\\right)} \\beta + 12 \\, \\beta^{2} + 5 \\, \\alpha + 1\\right)} c^{2} m_{g}^{4} r^{4} - 6 \\, {\\left(2 \\, \\alpha^{2} + {\\left(5 \\, \\alpha + 4\\right)} \\beta + 3 \\, \\beta^{2} + 3 \\, \\alpha + 1\\right)} c m_{g}^{4} r^{5} + 6 \\, {\\left(\\alpha^{2} + 2 \\, {\\left(\\alpha + 1\\right)} \\beta + \\beta^{2} + 2 \\, \\alpha + 1\\right)} m_{g}^{4} r^{6} - 4 \\, {\\left(\\alpha + 3 \\, \\beta\\right)} c^{2} m m_{g}^{2} r + 12 \\, m^{2}\\right)}}{r^{6}}</script></html>"
      ],
      "text/plain": [
       "4*((alpha^2 + 6*alpha*beta + 9*beta^2)*c^4*m_g^4*r^2 - 2*(2*alpha^2 + 3*(3*alpha + 1)*beta + 9*beta^2 + alpha)*c^3*m_g^4*r^3 + 2*(5*alpha^2 + (16*alpha + 9)*beta + 12*beta^2 + 5*alpha + 1)*c^2*m_g^4*r^4 - 6*(2*alpha^2 + (5*alpha + 4)*beta + 3*beta^2 + 3*alpha + 1)*c*m_g^4*r^5 + 6*(alpha^2 + 2*(alpha + 1)*beta + beta^2 + 2*alpha + 1)*m_g^4*r^6 - 4*(alpha + 3*beta)*c^2*m*m_g^2*r + 12*m^2)/r^6"
      ]
     },
     "execution_count": 26,
     "metadata": {},
     "output_type": "execute_result"
    }
   ],
   "source": [
    "K=R.down(g)['_{abcd}']*R.up(g)['^{abcd}']\n",
    "K.expr()"
   ]
  },
  {
   "cell_type": "markdown",
   "metadata": {},
   "source": [
    "Obteniendo que la solución presenta singularidad en $r=0$."
   ]
  }
 ],
 "metadata": {
  "kernelspec": {
   "display_name": "SageMath 9.1",
   "language": "sage",
   "name": "sagemath"
  },
  "language_info": {
   "codemirror_mode": {
    "name": "ipython",
    "version": 3
   },
   "file_extension": ".py",
   "mimetype": "text/x-python",
   "name": "python",
   "nbconvert_exporter": "python",
   "pygments_lexer": "ipython3",
   "version": "3.7.3"
  },
  "widgets": {
   "application/vnd.jupyter.widget-state+json": {
    "state": {},
    "version_major": 2,
    "version_minor": 0
   }
  }
 },
 "nbformat": 4,
 "nbformat_minor": 2
}
